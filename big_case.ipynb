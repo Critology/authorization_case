{
 "cells": [
  {
   "cell_type": "code",
   "execution_count": 826,
   "metadata": {},
   "outputs": [],
   "source": [
    "import pandas as pd\n",
    "import numpy as np\n",
    "import seaborn as sns\n",
    "import matplotlib.pyplot as plt\n",
    "from scipy.stats import ttest_ind\n",
    "import datetime\n",
    "from statsmodels.stats.power import tt_ind_solve_power\n",
    "import statsmodels.stats.api as sms\n",
    "\n",
    "def date_converter(x):\n",
    "    return datetime.datetime.strptime(x,'%Y-%m-%d')\n",
    "\n",
    "def print_interval(interval):\n",
    "    return f\"{round((interval[1] + interval[0]) / 2, 2)} ± {round((interval[1] - interval[0]) / 2, 2)}\""
   ]
  },
  {
   "attachments": {},
   "cell_type": "markdown",
   "metadata": {},
   "source": [
    "### verification_experiment_segment\n",
    "\n",
    "##### Табличка содержит всех участников эксперимента поделенных на экспериментальные группы"
   ]
  },
  {
   "cell_type": "code",
   "execution_count": 827,
   "metadata": {},
   "outputs": [],
   "source": [
    "verification_experiment_segment = pd.read_csv('_PUBLIC_services_verification_experiment_segment__202303152121.csv')"
   ]
  },
  {
   "cell_type": "code",
   "execution_count": 828,
   "metadata": {},
   "outputs": [
    {
     "data": {
      "text/html": [
       "<div>\n",
       "<style scoped>\n",
       "    .dataframe tbody tr th:only-of-type {\n",
       "        vertical-align: middle;\n",
       "    }\n",
       "\n",
       "    .dataframe tbody tr th {\n",
       "        vertical-align: top;\n",
       "    }\n",
       "\n",
       "    .dataframe thead th {\n",
       "        text-align: right;\n",
       "    }\n",
       "</style>\n",
       "<table border=\"1\" class=\"dataframe\">\n",
       "  <thead>\n",
       "    <tr style=\"text-align: right;\">\n",
       "      <th></th>\n",
       "      <th>user_id</th>\n",
       "      <th>experiment_group</th>\n",
       "      <th>UserType</th>\n",
       "      <th>RegistrationTime</th>\n",
       "    </tr>\n",
       "  </thead>\n",
       "  <tbody>\n",
       "    <tr>\n",
       "      <th>0</th>\n",
       "      <td>1085</td>\n",
       "      <td>no_discount</td>\n",
       "      <td>Private</td>\n",
       "      <td>2010-04-03 13:26:41.366</td>\n",
       "    </tr>\n",
       "    <tr>\n",
       "      <th>1</th>\n",
       "      <td>1578</td>\n",
       "      <td>no_discount</td>\n",
       "      <td>Private</td>\n",
       "      <td>2010-08-09 10:27:41.001</td>\n",
       "    </tr>\n",
       "    <tr>\n",
       "      <th>2</th>\n",
       "      <td>2037</td>\n",
       "      <td>30_discount</td>\n",
       "      <td>Company</td>\n",
       "      <td>2010-10-13 22:07:26.026</td>\n",
       "    </tr>\n",
       "    <tr>\n",
       "      <th>3</th>\n",
       "      <td>3586</td>\n",
       "      <td>30_discount</td>\n",
       "      <td>Private</td>\n",
       "      <td>2011-02-11 15:38:06.254</td>\n",
       "    </tr>\n",
       "    <tr>\n",
       "      <th>4</th>\n",
       "      <td>4482</td>\n",
       "      <td>no_discount</td>\n",
       "      <td>Private</td>\n",
       "      <td>2011-04-02 14:12:17.220</td>\n",
       "    </tr>\n",
       "  </tbody>\n",
       "</table>\n",
       "</div>"
      ],
      "text/plain": [
       "   user_id experiment_group UserType         RegistrationTime\n",
       "0     1085      no_discount  Private  2010-04-03 13:26:41.366\n",
       "1     1578      no_discount  Private  2010-08-09 10:27:41.001\n",
       "2     2037      30_discount  Company  2010-10-13 22:07:26.026\n",
       "3     3586      30_discount  Private  2011-02-11 15:38:06.254\n",
       "4     4482      no_discount  Private  2011-04-02 14:12:17.220"
      ]
     },
     "execution_count": 828,
     "metadata": {},
     "output_type": "execute_result"
    }
   ],
   "source": [
    "verification_experiment_segment.head()"
   ]
  },
  {
   "cell_type": "code",
   "execution_count": 829,
   "metadata": {},
   "outputs": [
    {
     "data": {
      "text/plain": [
       "(762730, 4)"
      ]
     },
     "execution_count": 829,
     "metadata": {},
     "output_type": "execute_result"
    }
   ],
   "source": [
    "verification_experiment_segment.shape"
   ]
  },
  {
   "attachments": {},
   "cell_type": "markdown",
   "metadata": {},
   "source": [
    "### Нет NaN-ов"
   ]
  },
  {
   "cell_type": "code",
   "execution_count": 830,
   "metadata": {},
   "outputs": [
    {
     "data": {
      "text/plain": [
       "user_id             0\n",
       "experiment_group    0\n",
       "UserType            0\n",
       "RegistrationTime    0\n",
       "dtype: int64"
      ]
     },
     "execution_count": 830,
     "metadata": {},
     "output_type": "execute_result"
    }
   ],
   "source": [
    "verification_experiment_segment.isna().sum()"
   ]
  },
  {
   "attachments": {},
   "cell_type": "markdown",
   "metadata": {},
   "source": [
    "### User_iten_info\n",
    "##### Таблица с дополнительной информацией об объявлениях"
   ]
  },
  {
   "cell_type": "code",
   "execution_count": 831,
   "metadata": {},
   "outputs": [],
   "source": [
    "user_item_info = pd.read_csv('user_item_info_202303152224.csv')"
   ]
  },
  {
   "cell_type": "code",
   "execution_count": 832,
   "metadata": {},
   "outputs": [
    {
     "data": {
      "text/html": [
       "<div>\n",
       "<style scoped>\n",
       "    .dataframe tbody tr th:only-of-type {\n",
       "        vertical-align: middle;\n",
       "    }\n",
       "\n",
       "    .dataframe tbody tr th {\n",
       "        vertical-align: top;\n",
       "    }\n",
       "\n",
       "    .dataframe thead th {\n",
       "        text-align: right;\n",
       "    }\n",
       "</style>\n",
       "<table border=\"1\" class=\"dataframe\">\n",
       "  <thead>\n",
       "    <tr style=\"text-align: right;\">\n",
       "      <th></th>\n",
       "      <th>item_id</th>\n",
       "      <th>user_id</th>\n",
       "      <th>item_vertical</th>\n",
       "      <th>item_region</th>\n",
       "      <th>item_creation_time</th>\n",
       "    </tr>\n",
       "  </thead>\n",
       "  <tbody>\n",
       "    <tr>\n",
       "      <th>0</th>\n",
       "      <td>1170914500673</td>\n",
       "      <td>271622000028</td>\n",
       "      <td>6</td>\n",
       "      <td>78</td>\n",
       "      <td>2021-12-04 12:50:50.389</td>\n",
       "    </tr>\n",
       "    <tr>\n",
       "      <th>1</th>\n",
       "      <td>1170965250432</td>\n",
       "      <td>342753250052</td>\n",
       "      <td>1</td>\n",
       "      <td>41</td>\n",
       "      <td>NaN</td>\n",
       "    </tr>\n",
       "    <tr>\n",
       "      <th>2</th>\n",
       "      <td>1170972500659</td>\n",
       "      <td>397739500055</td>\n",
       "      <td>2</td>\n",
       "      <td>39</td>\n",
       "      <td>2021-12-04 14:57:43.887</td>\n",
       "    </tr>\n",
       "    <tr>\n",
       "      <th>3</th>\n",
       "      <td>1170977500699</td>\n",
       "      <td>397739500055</td>\n",
       "      <td>2</td>\n",
       "      <td>15</td>\n",
       "      <td>2021-12-04 15:02:55.334</td>\n",
       "    </tr>\n",
       "    <tr>\n",
       "      <th>4</th>\n",
       "      <td>1170962250336</td>\n",
       "      <td>81249500010</td>\n",
       "      <td>3</td>\n",
       "      <td>13</td>\n",
       "      <td>2021-12-04 16:36:28.576</td>\n",
       "    </tr>\n",
       "  </tbody>\n",
       "</table>\n",
       "</div>"
      ],
      "text/plain": [
       "         item_id       user_id  item_vertical  item_region  \\\n",
       "0  1170914500673  271622000028              6           78   \n",
       "1  1170965250432  342753250052              1           41   \n",
       "2  1170972500659  397739500055              2           39   \n",
       "3  1170977500699  397739500055              2           15   \n",
       "4  1170962250336   81249500010              3           13   \n",
       "\n",
       "        item_creation_time  \n",
       "0  2021-12-04 12:50:50.389  \n",
       "1                      NaN  \n",
       "2  2021-12-04 14:57:43.887  \n",
       "3  2021-12-04 15:02:55.334  \n",
       "4  2021-12-04 16:36:28.576  "
      ]
     },
     "execution_count": 832,
     "metadata": {},
     "output_type": "execute_result"
    }
   ],
   "source": [
    "user_item_info.head()"
   ]
  },
  {
   "cell_type": "code",
   "execution_count": 833,
   "metadata": {},
   "outputs": [
    {
     "data": {
      "text/plain": [
       "(47231882, 5)"
      ]
     },
     "execution_count": 833,
     "metadata": {},
     "output_type": "execute_result"
    }
   ],
   "source": [
    "user_item_info.shape"
   ]
  },
  {
   "cell_type": "code",
   "execution_count": 834,
   "metadata": {},
   "outputs": [
    {
     "data": {
      "text/plain": [
       "item_id                     0\n",
       "user_id                     0\n",
       "item_vertical               0\n",
       "item_region                 0\n",
       "item_creation_time    2708528\n",
       "dtype: int64"
      ]
     },
     "execution_count": 834,
     "metadata": {},
     "output_type": "execute_result"
    }
   ],
   "source": [
    "user_item_info.isna().sum()"
   ]
  },
  {
   "attachments": {},
   "cell_type": "markdown",
   "metadata": {},
   "source": [
    "##### Заполним NaN в item_creation_time предыдущим значением"
   ]
  },
  {
   "cell_type": "code",
   "execution_count": 835,
   "metadata": {},
   "outputs": [],
   "source": [
    "user_item_info.fillna(method='ffill', inplace = True)"
   ]
  },
  {
   "cell_type": "code",
   "execution_count": 836,
   "metadata": {},
   "outputs": [
    {
     "data": {
      "text/html": [
       "<div>\n",
       "<style scoped>\n",
       "    .dataframe tbody tr th:only-of-type {\n",
       "        vertical-align: middle;\n",
       "    }\n",
       "\n",
       "    .dataframe tbody tr th {\n",
       "        vertical-align: top;\n",
       "    }\n",
       "\n",
       "    .dataframe thead th {\n",
       "        text-align: right;\n",
       "    }\n",
       "</style>\n",
       "<table border=\"1\" class=\"dataframe\">\n",
       "  <thead>\n",
       "    <tr style=\"text-align: right;\">\n",
       "      <th></th>\n",
       "      <th>item_id</th>\n",
       "      <th>user_id</th>\n",
       "      <th>item_vertical</th>\n",
       "      <th>item_region</th>\n",
       "      <th>item_creation_time</th>\n",
       "    </tr>\n",
       "  </thead>\n",
       "  <tbody>\n",
       "    <tr>\n",
       "      <th>0</th>\n",
       "      <td>1170914500673</td>\n",
       "      <td>271622000028</td>\n",
       "      <td>6</td>\n",
       "      <td>78</td>\n",
       "      <td>2021-12-04 12:50:50.389</td>\n",
       "    </tr>\n",
       "    <tr>\n",
       "      <th>1</th>\n",
       "      <td>1170965250432</td>\n",
       "      <td>342753250052</td>\n",
       "      <td>1</td>\n",
       "      <td>41</td>\n",
       "      <td>2021-12-04 12:50:50.389</td>\n",
       "    </tr>\n",
       "    <tr>\n",
       "      <th>2</th>\n",
       "      <td>1170972500659</td>\n",
       "      <td>397739500055</td>\n",
       "      <td>2</td>\n",
       "      <td>39</td>\n",
       "      <td>2021-12-04 14:57:43.887</td>\n",
       "    </tr>\n",
       "    <tr>\n",
       "      <th>3</th>\n",
       "      <td>1170977500699</td>\n",
       "      <td>397739500055</td>\n",
       "      <td>2</td>\n",
       "      <td>15</td>\n",
       "      <td>2021-12-04 15:02:55.334</td>\n",
       "    </tr>\n",
       "    <tr>\n",
       "      <th>4</th>\n",
       "      <td>1170962250336</td>\n",
       "      <td>81249500010</td>\n",
       "      <td>3</td>\n",
       "      <td>13</td>\n",
       "      <td>2021-12-04 16:36:28.576</td>\n",
       "    </tr>\n",
       "  </tbody>\n",
       "</table>\n",
       "</div>"
      ],
      "text/plain": [
       "         item_id       user_id  item_vertical  item_region  \\\n",
       "0  1170914500673  271622000028              6           78   \n",
       "1  1170965250432  342753250052              1           41   \n",
       "2  1170972500659  397739500055              2           39   \n",
       "3  1170977500699  397739500055              2           15   \n",
       "4  1170962250336   81249500010              3           13   \n",
       "\n",
       "        item_creation_time  \n",
       "0  2021-12-04 12:50:50.389  \n",
       "1  2021-12-04 12:50:50.389  \n",
       "2  2021-12-04 14:57:43.887  \n",
       "3  2021-12-04 15:02:55.334  \n",
       "4  2021-12-04 16:36:28.576  "
      ]
     },
     "execution_count": 836,
     "metadata": {},
     "output_type": "execute_result"
    }
   ],
   "source": [
    "user_item_info.head()"
   ]
  },
  {
   "cell_type": "code",
   "execution_count": 837,
   "metadata": {},
   "outputs": [
    {
     "data": {
      "text/plain": [
       "0"
      ]
     },
     "execution_count": 837,
     "metadata": {},
     "output_type": "execute_result"
    }
   ],
   "source": [
    "user_item_info['item_creation_time'].isna().sum()"
   ]
  },
  {
   "cell_type": "code",
   "execution_count": 838,
   "metadata": {},
   "outputs": [
    {
     "data": {
      "text/plain": [
       "6737175"
      ]
     },
     "execution_count": 838,
     "metadata": {},
     "output_type": "execute_result"
    }
   ],
   "source": [
    "user_item_info[user_item_info['item_creation_time'] > '2021-09-15']['item_id'].count()"
   ]
  },
  {
   "attachments": {},
   "cell_type": "markdown",
   "metadata": {},
   "source": [
    "### services_verification_discount\n",
    "\n",
    "##### Табличка содержит факт прохождения верификации пользователей из эксперимента. Указывается дата и объявления, на которые пользователь получил скидку."
   ]
  },
  {
   "cell_type": "code",
   "execution_count": 839,
   "metadata": {},
   "outputs": [],
   "source": [
    "services_verification_discount = pd.read_csv('services_verification_discounts_202303152133.csv')"
   ]
  },
  {
   "cell_type": "code",
   "execution_count": 840,
   "metadata": {},
   "outputs": [
    {
     "data": {
      "text/html": [
       "<div>\n",
       "<style scoped>\n",
       "    .dataframe tbody tr th:only-of-type {\n",
       "        vertical-align: middle;\n",
       "    }\n",
       "\n",
       "    .dataframe tbody tr th {\n",
       "        vertical-align: top;\n",
       "    }\n",
       "\n",
       "    .dataframe thead th {\n",
       "        text-align: right;\n",
       "    }\n",
       "</style>\n",
       "<table border=\"1\" class=\"dataframe\">\n",
       "  <thead>\n",
       "    <tr style=\"text-align: right;\">\n",
       "      <th></th>\n",
       "      <th>user_id</th>\n",
       "      <th>item_id</th>\n",
       "      <th>discount_day</th>\n",
       "      <th>experiment</th>\n",
       "    </tr>\n",
       "  </thead>\n",
       "  <tbody>\n",
       "    <tr>\n",
       "      <th>0</th>\n",
       "      <td>49000737</td>\n",
       "      <td>11352751363</td>\n",
       "      <td>2021-10-01</td>\n",
       "      <td>1_verification_test</td>\n",
       "    </tr>\n",
       "    <tr>\n",
       "      <th>1</th>\n",
       "      <td>4255271</td>\n",
       "      <td>78048500109</td>\n",
       "      <td>2021-10-10</td>\n",
       "      <td>1_verification_test</td>\n",
       "    </tr>\n",
       "    <tr>\n",
       "      <th>2</th>\n",
       "      <td>111000153</td>\n",
       "      <td>101676750179</td>\n",
       "      <td>2021-10-02</td>\n",
       "      <td>1_verification_test</td>\n",
       "    </tr>\n",
       "    <tr>\n",
       "      <th>3</th>\n",
       "      <td>110750728</td>\n",
       "      <td>162344000369</td>\n",
       "      <td>2021-10-14</td>\n",
       "      <td>1_verification_test</td>\n",
       "    </tr>\n",
       "    <tr>\n",
       "      <th>4</th>\n",
       "      <td>143655000006</td>\n",
       "      <td>252307750608</td>\n",
       "      <td>2021-10-09</td>\n",
       "      <td>1_verification_test</td>\n",
       "    </tr>\n",
       "  </tbody>\n",
       "</table>\n",
       "</div>"
      ],
      "text/plain": [
       "        user_id       item_id discount_day           experiment\n",
       "0      49000737   11352751363   2021-10-01  1_verification_test\n",
       "1       4255271   78048500109   2021-10-10  1_verification_test\n",
       "2     111000153  101676750179   2021-10-02  1_verification_test\n",
       "3     110750728  162344000369   2021-10-14  1_verification_test\n",
       "4  143655000006  252307750608   2021-10-09  1_verification_test"
      ]
     },
     "execution_count": 840,
     "metadata": {},
     "output_type": "execute_result"
    }
   ],
   "source": [
    "services_verification_discount.head()"
   ]
  },
  {
   "cell_type": "code",
   "execution_count": 841,
   "metadata": {},
   "outputs": [
    {
     "data": {
      "text/plain": [
       "user_id         0\n",
       "item_id         0\n",
       "discount_day    0\n",
       "experiment      0\n",
       "dtype: int64"
      ]
     },
     "execution_count": 841,
     "metadata": {},
     "output_type": "execute_result"
    }
   ],
   "source": [
    "services_verification_discount.isna().sum()"
   ]
  },
  {
   "attachments": {},
   "cell_type": "markdown",
   "metadata": {},
   "source": [
    "### user_payments_info\n",
    "\n",
    "##### Таблица содержит информацию о совершенных покупках услуг Авито для работы с объявлениями. Важно. Наличие скидки никак не отмечается в транзакциях"
   ]
  },
  {
   "cell_type": "code",
   "execution_count": 842,
   "metadata": {},
   "outputs": [],
   "source": [
    "user_payments_info = pd.read_csv('user_payments_info_202303152221.csv')"
   ]
  },
  {
   "cell_type": "code",
   "execution_count": 843,
   "metadata": {},
   "outputs": [
    {
     "data": {
      "text/html": [
       "<div>\n",
       "<style scoped>\n",
       "    .dataframe tbody tr th:only-of-type {\n",
       "        vertical-align: middle;\n",
       "    }\n",
       "\n",
       "    .dataframe tbody tr th {\n",
       "        vertical-align: top;\n",
       "    }\n",
       "\n",
       "    .dataframe thead th {\n",
       "        text-align: right;\n",
       "    }\n",
       "</style>\n",
       "<table border=\"1\" class=\"dataframe\">\n",
       "  <thead>\n",
       "    <tr style=\"text-align: right;\">\n",
       "      <th></th>\n",
       "      <th>user_id</th>\n",
       "      <th>item_id</th>\n",
       "      <th>event_time</th>\n",
       "      <th>transaction_type</th>\n",
       "      <th>transaction_subtype</th>\n",
       "      <th>amount_net</th>\n",
       "    </tr>\n",
       "  </thead>\n",
       "  <tbody>\n",
       "    <tr>\n",
       "      <th>0</th>\n",
       "      <td>193193750074</td>\n",
       "      <td>4.116165e+11</td>\n",
       "      <td>2021-07-18 10:10:36.000</td>\n",
       "      <td>3</td>\n",
       "      <td>16</td>\n",
       "      <td>21.000000</td>\n",
       "    </tr>\n",
       "    <tr>\n",
       "      <th>1</th>\n",
       "      <td>193193750074</td>\n",
       "      <td>4.116165e+11</td>\n",
       "      <td>2021-07-27 12:44:32.000</td>\n",
       "      <td>3</td>\n",
       "      <td>16</td>\n",
       "      <td>26.923077</td>\n",
       "    </tr>\n",
       "    <tr>\n",
       "      <th>2</th>\n",
       "      <td>218661250010</td>\n",
       "      <td>4.112775e+11</td>\n",
       "      <td>2021-07-08 16:14:48.000</td>\n",
       "      <td>3</td>\n",
       "      <td>17</td>\n",
       "      <td>84.692308</td>\n",
       "    </tr>\n",
       "    <tr>\n",
       "      <th>3</th>\n",
       "      <td>91246750001</td>\n",
       "      <td>4.115513e+11</td>\n",
       "      <td>2021-07-22 10:48:32.000</td>\n",
       "      <td>3</td>\n",
       "      <td>17</td>\n",
       "      <td>61.538462</td>\n",
       "    </tr>\n",
       "    <tr>\n",
       "      <th>4</th>\n",
       "      <td>91246750001</td>\n",
       "      <td>4.115513e+11</td>\n",
       "      <td>2021-07-22 10:48:47.000</td>\n",
       "      <td>3</td>\n",
       "      <td>17</td>\n",
       "      <td>61.538462</td>\n",
       "    </tr>\n",
       "  </tbody>\n",
       "</table>\n",
       "</div>"
      ],
      "text/plain": [
       "        user_id       item_id               event_time  transaction_type  \\\n",
       "0  193193750074  4.116165e+11  2021-07-18 10:10:36.000                 3   \n",
       "1  193193750074  4.116165e+11  2021-07-27 12:44:32.000                 3   \n",
       "2  218661250010  4.112775e+11  2021-07-08 16:14:48.000                 3   \n",
       "3   91246750001  4.115513e+11  2021-07-22 10:48:32.000                 3   \n",
       "4   91246750001  4.115513e+11  2021-07-22 10:48:47.000                 3   \n",
       "\n",
       "   transaction_subtype  amount_net  \n",
       "0                   16   21.000000  \n",
       "1                   16   26.923077  \n",
       "2                   17   84.692308  \n",
       "3                   17   61.538462  \n",
       "4                   17   61.538462  "
      ]
     },
     "execution_count": 843,
     "metadata": {},
     "output_type": "execute_result"
    }
   ],
   "source": [
    "user_payments_info.head()"
   ]
  },
  {
   "cell_type": "code",
   "execution_count": 844,
   "metadata": {},
   "outputs": [
    {
     "data": {
      "text/plain": [
       "(7739054, 6)"
      ]
     },
     "execution_count": 844,
     "metadata": {},
     "output_type": "execute_result"
    }
   ],
   "source": [
    "user_payments_info.shape"
   ]
  },
  {
   "cell_type": "code",
   "execution_count": 845,
   "metadata": {},
   "outputs": [
    {
     "data": {
      "text/plain": [
       "user_id                    0\n",
       "item_id                67042\n",
       "event_time                 0\n",
       "transaction_type           0\n",
       "transaction_subtype        0\n",
       "amount_net                 0\n",
       "dtype: int64"
      ]
     },
     "execution_count": 845,
     "metadata": {},
     "output_type": "execute_result"
    }
   ],
   "source": [
    "user_payments_info.query(\"event_time > '2021-09-15'\").isna().sum()"
   ]
  },
  {
   "cell_type": "code",
   "execution_count": 846,
   "metadata": {},
   "outputs": [
    {
     "data": {
      "text/html": [
       "<div>\n",
       "<style scoped>\n",
       "    .dataframe tbody tr th:only-of-type {\n",
       "        vertical-align: middle;\n",
       "    }\n",
       "\n",
       "    .dataframe tbody tr th {\n",
       "        vertical-align: top;\n",
       "    }\n",
       "\n",
       "    .dataframe thead th {\n",
       "        text-align: right;\n",
       "    }\n",
       "</style>\n",
       "<table border=\"1\" class=\"dataframe\">\n",
       "  <thead>\n",
       "    <tr style=\"text-align: right;\">\n",
       "      <th></th>\n",
       "      <th>user_id</th>\n",
       "      <th>item_id</th>\n",
       "      <th>event_time</th>\n",
       "      <th>transaction_type</th>\n",
       "      <th>transaction_subtype</th>\n",
       "      <th>amount_net</th>\n",
       "    </tr>\n",
       "  </thead>\n",
       "  <tbody>\n",
       "    <tr>\n",
       "      <th>43841</th>\n",
       "      <td>1265957</td>\n",
       "      <td>NaN</td>\n",
       "      <td>2021-07-03 00:06:40.108</td>\n",
       "      <td>1</td>\n",
       "      <td>7</td>\n",
       "      <td>27.307692</td>\n",
       "    </tr>\n",
       "    <tr>\n",
       "      <th>43874</th>\n",
       "      <td>651774000040</td>\n",
       "      <td>NaN</td>\n",
       "      <td>2021-07-06 00:11:21.509</td>\n",
       "      <td>1</td>\n",
       "      <td>6</td>\n",
       "      <td>19.615385</td>\n",
       "    </tr>\n",
       "    <tr>\n",
       "      <th>92906</th>\n",
       "      <td>159250168</td>\n",
       "      <td>NaN</td>\n",
       "      <td>2021-07-01 00:02:06.394</td>\n",
       "      <td>1</td>\n",
       "      <td>6</td>\n",
       "      <td>22.076923</td>\n",
       "    </tr>\n",
       "    <tr>\n",
       "      <th>225470</th>\n",
       "      <td>572457500002</td>\n",
       "      <td>NaN</td>\n",
       "      <td>2021-07-14 00:05:28.750</td>\n",
       "      <td>1</td>\n",
       "      <td>7</td>\n",
       "      <td>22.153846</td>\n",
       "    </tr>\n",
       "    <tr>\n",
       "      <th>254720</th>\n",
       "      <td>293750121</td>\n",
       "      <td>NaN</td>\n",
       "      <td>2021-07-01 00:09:51.681</td>\n",
       "      <td>1</td>\n",
       "      <td>7</td>\n",
       "      <td>27.307692</td>\n",
       "    </tr>\n",
       "  </tbody>\n",
       "</table>\n",
       "</div>"
      ],
      "text/plain": [
       "             user_id  item_id               event_time  transaction_type  \\\n",
       "43841        1265957      NaN  2021-07-03 00:06:40.108                 1   \n",
       "43874   651774000040      NaN  2021-07-06 00:11:21.509                 1   \n",
       "92906      159250168      NaN  2021-07-01 00:02:06.394                 1   \n",
       "225470  572457500002      NaN  2021-07-14 00:05:28.750                 1   \n",
       "254720     293750121      NaN  2021-07-01 00:09:51.681                 1   \n",
       "\n",
       "        transaction_subtype  amount_net  \n",
       "43841                     7   27.307692  \n",
       "43874                     6   19.615385  \n",
       "92906                     6   22.076923  \n",
       "225470                    7   22.153846  \n",
       "254720                    7   27.307692  "
      ]
     },
     "execution_count": 846,
     "metadata": {},
     "output_type": "execute_result"
    }
   ],
   "source": [
    "user_payments_info[user_payments_info['item_id'].isna()].head()"
   ]
  },
  {
   "cell_type": "code",
   "execution_count": 847,
   "metadata": {},
   "outputs": [
    {
     "data": {
      "text/plain": [
       "(62421, 6)"
      ]
     },
     "execution_count": 847,
     "metadata": {},
     "output_type": "execute_result"
    }
   ],
   "source": [
    "user_payments_info.query(\"transaction_type == 1 & transaction_subtype == 7\").shape"
   ]
  },
  {
   "cell_type": "code",
   "execution_count": 848,
   "metadata": {},
   "outputs": [
    {
     "data": {
      "text/plain": [
       "user_id                    0\n",
       "item_id                62421\n",
       "event_time                 0\n",
       "transaction_type           0\n",
       "transaction_subtype        0\n",
       "amount_net                 0\n",
       "dtype: int64"
      ]
     },
     "execution_count": 848,
     "metadata": {},
     "output_type": "execute_result"
    }
   ],
   "source": [
    "user_payments_info.query(\"transaction_type == 1 & transaction_subtype == 7\").isna().sum()"
   ]
  },
  {
   "attachments": {},
   "cell_type": "markdown",
   "metadata": {},
   "source": [
    "Видимо какие-то типы транзакций не привязаны к товару, заполним \"no_item\""
   ]
  },
  {
   "cell_type": "code",
   "execution_count": 849,
   "metadata": {},
   "outputs": [],
   "source": [
    "user_payments_info.replace({np.nan: \"no_item\"}, inplace=True)"
   ]
  },
  {
   "attachments": {},
   "cell_type": "markdown",
   "metadata": {},
   "source": [
    "## Проверка на корректность разбиения групп перед тестом \n",
    "\n",
    "#### Так как здесь буду проверять сразу несколько гипотез, то уровень значимости выставлю $\\alpha = 0.01$ чтобы не завышать ошибку первого рода"
   ]
  },
  {
   "attachments": {},
   "cell_type": "markdown",
   "metadata": {},
   "source": [
    "### 1. Проверяю пропорции юзеров, у которых уже был опыт покупки услуг продвижени на предпериоде \n"
   ]
  },
  {
   "attachments": {},
   "cell_type": "markdown",
   "metadata": {},
   "source": [
    "$H_0: proportion_{nodisc} = proportion_{30disc} = proportion_{60disc}$\n",
    "\n",
    "$H_1: proportion_{nodisc} \\neq proportion_{30disc} \\neq proportion_{60disc}$\n",
    "\n",
    "##### Здесь и в дальнейшем проверяю эту гипотезу как 3 попарных сравнения"
   ]
  },
  {
   "cell_type": "code",
   "execution_count": 850,
   "metadata": {},
   "outputs": [],
   "source": [
    "payments_by_user_on_pred = user_payments_info.query(\"event_time < '2021-09-15'\")[['user_id', 'amount_net']].groupby(['user_id']).sum()"
   ]
  },
  {
   "cell_type": "code",
   "execution_count": 851,
   "metadata": {},
   "outputs": [
    {
     "data": {
      "text/html": [
       "<div>\n",
       "<style scoped>\n",
       "    .dataframe tbody tr th:only-of-type {\n",
       "        vertical-align: middle;\n",
       "    }\n",
       "\n",
       "    .dataframe tbody tr th {\n",
       "        vertical-align: top;\n",
       "    }\n",
       "\n",
       "    .dataframe thead th {\n",
       "        text-align: right;\n",
       "    }\n",
       "</style>\n",
       "<table border=\"1\" class=\"dataframe\">\n",
       "  <thead>\n",
       "    <tr style=\"text-align: right;\">\n",
       "      <th></th>\n",
       "      <th>user_id</th>\n",
       "      <th>experiment_group</th>\n",
       "      <th>UserType</th>\n",
       "      <th>RegistrationTime</th>\n",
       "      <th>amount_net</th>\n",
       "    </tr>\n",
       "  </thead>\n",
       "  <tbody>\n",
       "    <tr>\n",
       "      <th>0</th>\n",
       "      <td>1085</td>\n",
       "      <td>no_discount</td>\n",
       "      <td>Private</td>\n",
       "      <td>2010-04-03 13:26:41.366</td>\n",
       "      <td>NaN</td>\n",
       "    </tr>\n",
       "    <tr>\n",
       "      <th>1</th>\n",
       "      <td>1578</td>\n",
       "      <td>no_discount</td>\n",
       "      <td>Private</td>\n",
       "      <td>2010-08-09 10:27:41.001</td>\n",
       "      <td>NaN</td>\n",
       "    </tr>\n",
       "    <tr>\n",
       "      <th>2</th>\n",
       "      <td>2037</td>\n",
       "      <td>30_discount</td>\n",
       "      <td>Company</td>\n",
       "      <td>2010-10-13 22:07:26.026</td>\n",
       "      <td>NaN</td>\n",
       "    </tr>\n",
       "    <tr>\n",
       "      <th>3</th>\n",
       "      <td>3586</td>\n",
       "      <td>30_discount</td>\n",
       "      <td>Private</td>\n",
       "      <td>2011-02-11 15:38:06.254</td>\n",
       "      <td>NaN</td>\n",
       "    </tr>\n",
       "    <tr>\n",
       "      <th>4</th>\n",
       "      <td>4482</td>\n",
       "      <td>no_discount</td>\n",
       "      <td>Private</td>\n",
       "      <td>2011-04-02 14:12:17.220</td>\n",
       "      <td>227.615385</td>\n",
       "    </tr>\n",
       "  </tbody>\n",
       "</table>\n",
       "</div>"
      ],
      "text/plain": [
       "   user_id experiment_group UserType         RegistrationTime  amount_net\n",
       "0     1085      no_discount  Private  2010-04-03 13:26:41.366         NaN\n",
       "1     1578      no_discount  Private  2010-08-09 10:27:41.001         NaN\n",
       "2     2037      30_discount  Company  2010-10-13 22:07:26.026         NaN\n",
       "3     3586      30_discount  Private  2011-02-11 15:38:06.254         NaN\n",
       "4     4482      no_discount  Private  2011-04-02 14:12:17.220  227.615385"
      ]
     },
     "execution_count": 851,
     "metadata": {},
     "output_type": "execute_result"
    }
   ],
   "source": [
    "had_payments_on_pred = pd.merge(verification_experiment_segment, payments_by_user_on_pred, on='user_id', how='left')\n",
    "had_payments_on_pred.head()"
   ]
  },
  {
   "cell_type": "code",
   "execution_count": 852,
   "metadata": {},
   "outputs": [],
   "source": [
    "had_payments_on_pred['had_payments'] = had_payments_on_pred['amount_net'].replace({np.nan: False}).astype('bool').astype('int')"
   ]
  },
  {
   "cell_type": "code",
   "execution_count": 853,
   "metadata": {},
   "outputs": [],
   "source": [
    "group_no_discount = had_payments_on_pred.query(\"experiment_group == 'no_discount'\")['had_payments']\n",
    "group_30_discount = had_payments_on_pred.query(\"experiment_group == '30_discount'\")['had_payments']\n",
    "group_60_discount = had_payments_on_pred.query(\"experiment_group == '60_discount'\")['had_payments']"
   ]
  },
  {
   "cell_type": "code",
   "execution_count": 854,
   "metadata": {},
   "outputs": [
    {
     "name": "stdout",
     "output_type": "stream",
     "text": [
      "group_no_discount mean: 0.3366206880364282, group_30_discount mean: 0.3358984164028652, group_60_discount mean: 0.33677660678422194\n"
     ]
    }
   ],
   "source": [
    "print(f'group_no_discount mean: {group_no_discount.mean()}, group_30_discount mean: {group_30_discount.mean()}, group_60_discount mean: {group_60_discount.mean()}')"
   ]
  },
  {
   "cell_type": "code",
   "execution_count": 855,
   "metadata": {},
   "outputs": [
    {
     "name": "stdout",
     "output_type": "stream",
     "text": [
      "Ttest_indResult(statistic=0.545521483631751, pvalue=0.5853951478044056) \n",
      " Ttest_indResult(statistic=0.6618281880558387, pvalue=0.5080816394890297) \n",
      " Ttest_indResult(statistic=0.11769958900972477, pvalue=0.9063057388758138)\n"
     ]
    }
   ],
   "source": [
    "print(ttest_ind(group_no_discount, group_30_discount),'\\n',\n",
    "ttest_ind(group_60_discount, group_30_discount),'\\n',\n",
    "ttest_ind(group_60_discount, group_no_discount))"
   ]
  },
  {
   "attachments": {},
   "cell_type": "markdown",
   "metadata": {},
   "source": [
    "##### Статзначимого различия в группах нет "
   ]
  },
  {
   "attachments": {},
   "cell_type": "markdown",
   "metadata": {},
   "source": [
    "### 2. Выручка с платящих пользователей на предпериоде "
   ]
  },
  {
   "attachments": {},
   "cell_type": "markdown",
   "metadata": {},
   "source": [
    "$H_0: ARPPU_{nodisc} = ARPPU_{30disc} = ARPPU_{60disc}$\n",
    "\n",
    "$H_1: ARPPU_{nodisc} \\neq ARPPU_{30disc} \\neq ARPPU_{60disc}$"
   ]
  },
  {
   "cell_type": "code",
   "execution_count": 856,
   "metadata": {},
   "outputs": [],
   "source": [
    "payments_by_user_on_pred = user_payments_info.query(\"event_time < '2021-09-15'\")[['user_id', 'amount_net']].groupby(['user_id']).sum()"
   ]
  },
  {
   "cell_type": "code",
   "execution_count": 857,
   "metadata": {},
   "outputs": [
    {
     "data": {
      "text/html": [
       "<div>\n",
       "<style scoped>\n",
       "    .dataframe tbody tr th:only-of-type {\n",
       "        vertical-align: middle;\n",
       "    }\n",
       "\n",
       "    .dataframe tbody tr th {\n",
       "        vertical-align: top;\n",
       "    }\n",
       "\n",
       "    .dataframe thead th {\n",
       "        text-align: right;\n",
       "    }\n",
       "</style>\n",
       "<table border=\"1\" class=\"dataframe\">\n",
       "  <thead>\n",
       "    <tr style=\"text-align: right;\">\n",
       "      <th></th>\n",
       "      <th>user_id</th>\n",
       "      <th>experiment_group</th>\n",
       "      <th>UserType</th>\n",
       "      <th>RegistrationTime</th>\n",
       "      <th>amount_net</th>\n",
       "    </tr>\n",
       "  </thead>\n",
       "  <tbody>\n",
       "    <tr>\n",
       "      <th>4</th>\n",
       "      <td>4482</td>\n",
       "      <td>no_discount</td>\n",
       "      <td>Private</td>\n",
       "      <td>2011-04-02 14:12:17.220</td>\n",
       "      <td>227.615385</td>\n",
       "    </tr>\n",
       "    <tr>\n",
       "      <th>6</th>\n",
       "      <td>8836</td>\n",
       "      <td>30_discount</td>\n",
       "      <td>Private</td>\n",
       "      <td>2011-11-14 21:57:20.547</td>\n",
       "      <td>54.307692</td>\n",
       "    </tr>\n",
       "    <tr>\n",
       "      <th>7</th>\n",
       "      <td>11161</td>\n",
       "      <td>60_discount</td>\n",
       "      <td>Company</td>\n",
       "      <td>2012-02-17 23:27:52.058</td>\n",
       "      <td>3973.076923</td>\n",
       "    </tr>\n",
       "    <tr>\n",
       "      <th>8</th>\n",
       "      <td>11340</td>\n",
       "      <td>no_discount</td>\n",
       "      <td>Private</td>\n",
       "      <td>2012-02-23 20:35:10.315</td>\n",
       "      <td>26.384615</td>\n",
       "    </tr>\n",
       "    <tr>\n",
       "      <th>10</th>\n",
       "      <td>13475</td>\n",
       "      <td>no_discount</td>\n",
       "      <td>Company</td>\n",
       "      <td>2012-05-05 18:55:05.330</td>\n",
       "      <td>1195.846154</td>\n",
       "    </tr>\n",
       "  </tbody>\n",
       "</table>\n",
       "</div>"
      ],
      "text/plain": [
       "    user_id experiment_group UserType         RegistrationTime   amount_net\n",
       "4      4482      no_discount  Private  2011-04-02 14:12:17.220   227.615385\n",
       "6      8836      30_discount  Private  2011-11-14 21:57:20.547    54.307692\n",
       "7     11161      60_discount  Company  2012-02-17 23:27:52.058  3973.076923\n",
       "8     11340      no_discount  Private  2012-02-23 20:35:10.315    26.384615\n",
       "10    13475      no_discount  Company  2012-05-05 18:55:05.330  1195.846154"
      ]
     },
     "execution_count": 857,
     "metadata": {},
     "output_type": "execute_result"
    }
   ],
   "source": [
    "payments_on_pred = pd.merge(verification_experiment_segment, payments_by_user_on_pred, on='user_id', how='left')\n",
    "payments_on_pred.dropna(inplace=True)\n",
    "payments_on_pred.head()"
   ]
  },
  {
   "cell_type": "code",
   "execution_count": 858,
   "metadata": {},
   "outputs": [],
   "source": [
    "group_no_discount = payments_on_pred.query(\"experiment_group == 'no_discount'\")['amount_net']\n",
    "group_30_discount = payments_on_pred.query(\"experiment_group == '30_discount'\")['amount_net']\n",
    "group_60_discount = payments_on_pred.query(\"experiment_group == '60_discount'\")['amount_net']"
   ]
  },
  {
   "cell_type": "code",
   "execution_count": 859,
   "metadata": {},
   "outputs": [
    {
     "name": "stdout",
     "output_type": "stream",
     "text": [
      "group_no_discount mean: 521.8628421641694, group_30_discount mean: 482.25909929446186, group_60_discount mean: 502.8373086340979\n"
     ]
    }
   ],
   "source": [
    "print(f'group_no_discount mean: {group_no_discount.mean()}, group_30_discount mean: {group_30_discount.mean()}, group_60_discount mean: {group_60_discount.mean()}')"
   ]
  },
  {
   "cell_type": "code",
   "execution_count": 860,
   "metadata": {},
   "outputs": [
    {
     "name": "stdout",
     "output_type": "stream",
     "text": [
      "Ttest_indResult(statistic=1.4010062526790747, pvalue=0.16121401538204816) \n",
      " Ttest_indResult(statistic=1.0959257896199406, pvalue=0.27311279936025384) \n",
      " Ttest_indResult(statistic=-0.6478772386094245, pvalue=0.5170652213163272)\n"
     ]
    }
   ],
   "source": [
    "print(ttest_ind(group_no_discount, group_30_discount),'\\n',\n",
    "ttest_ind(group_60_discount, group_30_discount),'\\n',\n",
    "ttest_ind(group_60_discount, group_no_discount))"
   ]
  },
  {
   "attachments": {},
   "cell_type": "markdown",
   "metadata": {},
   "source": [
    "## Вывод: группы однородны по выручке на пользователя и по количеству покупавших услуги продвижения пользователей на пердпериоде "
   ]
  },
  {
   "attachments": {},
   "cell_type": "markdown",
   "metadata": {},
   "source": [
    "#### Хочу посмотреть конверсии в верификацию по группам"
   ]
  },
  {
   "cell_type": "code",
   "execution_count": 861,
   "metadata": {},
   "outputs": [
    {
     "data": {
      "text/html": [
       "<div>\n",
       "<style scoped>\n",
       "    .dataframe tbody tr th:only-of-type {\n",
       "        vertical-align: middle;\n",
       "    }\n",
       "\n",
       "    .dataframe tbody tr th {\n",
       "        vertical-align: top;\n",
       "    }\n",
       "\n",
       "    .dataframe thead th {\n",
       "        text-align: right;\n",
       "    }\n",
       "</style>\n",
       "<table border=\"1\" class=\"dataframe\">\n",
       "  <thead>\n",
       "    <tr style=\"text-align: right;\">\n",
       "      <th></th>\n",
       "      <th>user_id</th>\n",
       "      <th>item_id</th>\n",
       "      <th>discount_day</th>\n",
       "      <th>experiment</th>\n",
       "    </tr>\n",
       "  </thead>\n",
       "  <tbody>\n",
       "    <tr>\n",
       "      <th>0</th>\n",
       "      <td>49000737</td>\n",
       "      <td>11352751363</td>\n",
       "      <td>2021-10-01</td>\n",
       "      <td>1_verification_test</td>\n",
       "    </tr>\n",
       "    <tr>\n",
       "      <th>1</th>\n",
       "      <td>4255271</td>\n",
       "      <td>78048500109</td>\n",
       "      <td>2021-10-10</td>\n",
       "      <td>1_verification_test</td>\n",
       "    </tr>\n",
       "    <tr>\n",
       "      <th>2</th>\n",
       "      <td>111000153</td>\n",
       "      <td>101676750179</td>\n",
       "      <td>2021-10-02</td>\n",
       "      <td>1_verification_test</td>\n",
       "    </tr>\n",
       "    <tr>\n",
       "      <th>3</th>\n",
       "      <td>110750728</td>\n",
       "      <td>162344000369</td>\n",
       "      <td>2021-10-14</td>\n",
       "      <td>1_verification_test</td>\n",
       "    </tr>\n",
       "    <tr>\n",
       "      <th>4</th>\n",
       "      <td>143655000006</td>\n",
       "      <td>252307750608</td>\n",
       "      <td>2021-10-09</td>\n",
       "      <td>1_verification_test</td>\n",
       "    </tr>\n",
       "    <tr>\n",
       "      <th>...</th>\n",
       "      <td>...</td>\n",
       "      <td>...</td>\n",
       "      <td>...</td>\n",
       "      <td>...</td>\n",
       "    </tr>\n",
       "    <tr>\n",
       "      <th>29958</th>\n",
       "      <td>65500899</td>\n",
       "      <td>1129535751173</td>\n",
       "      <td>2021-09-25</td>\n",
       "      <td>1_verification_test</td>\n",
       "    </tr>\n",
       "    <tr>\n",
       "      <th>29959</th>\n",
       "      <td>830210750056</td>\n",
       "      <td>1129550000127</td>\n",
       "      <td>2021-09-30</td>\n",
       "      <td>1_verification_test</td>\n",
       "    </tr>\n",
       "    <tr>\n",
       "      <th>29960</th>\n",
       "      <td>368182337</td>\n",
       "      <td>1129612500421</td>\n",
       "      <td>2021-09-30</td>\n",
       "      <td>1_verification_test</td>\n",
       "    </tr>\n",
       "    <tr>\n",
       "      <th>29961</th>\n",
       "      <td>399483500082</td>\n",
       "      <td>1130392750186</td>\n",
       "      <td>2021-09-27</td>\n",
       "      <td>1_verification_test</td>\n",
       "    </tr>\n",
       "    <tr>\n",
       "      <th>29962</th>\n",
       "      <td>333703500039</td>\n",
       "      <td>1131370000206</td>\n",
       "      <td>2021-09-28</td>\n",
       "      <td>1_verification_test</td>\n",
       "    </tr>\n",
       "  </tbody>\n",
       "</table>\n",
       "<p>29963 rows × 4 columns</p>\n",
       "</div>"
      ],
      "text/plain": [
       "            user_id        item_id discount_day           experiment\n",
       "0          49000737    11352751363   2021-10-01  1_verification_test\n",
       "1           4255271    78048500109   2021-10-10  1_verification_test\n",
       "2         111000153   101676750179   2021-10-02  1_verification_test\n",
       "3         110750728   162344000369   2021-10-14  1_verification_test\n",
       "4      143655000006   252307750608   2021-10-09  1_verification_test\n",
       "...             ...            ...          ...                  ...\n",
       "29958      65500899  1129535751173   2021-09-25  1_verification_test\n",
       "29959  830210750056  1129550000127   2021-09-30  1_verification_test\n",
       "29960     368182337  1129612500421   2021-09-30  1_verification_test\n",
       "29961  399483500082  1130392750186   2021-09-27  1_verification_test\n",
       "29962  333703500039  1131370000206   2021-09-28  1_verification_test\n",
       "\n",
       "[29963 rows x 4 columns]"
      ]
     },
     "execution_count": 861,
     "metadata": {},
     "output_type": "execute_result"
    }
   ],
   "source": [
    "services_verification_discount"
   ]
  },
  {
   "cell_type": "code",
   "execution_count": 862,
   "metadata": {},
   "outputs": [
    {
     "data": {
      "text/html": [
       "<div>\n",
       "<style scoped>\n",
       "    .dataframe tbody tr th:only-of-type {\n",
       "        vertical-align: middle;\n",
       "    }\n",
       "\n",
       "    .dataframe tbody tr th {\n",
       "        vertical-align: top;\n",
       "    }\n",
       "\n",
       "    .dataframe thead th {\n",
       "        text-align: right;\n",
       "    }\n",
       "</style>\n",
       "<table border=\"1\" class=\"dataframe\">\n",
       "  <thead>\n",
       "    <tr style=\"text-align: right;\">\n",
       "      <th></th>\n",
       "      <th>item_id</th>\n",
       "      <th>discount_day</th>\n",
       "      <th>experiment</th>\n",
       "    </tr>\n",
       "    <tr>\n",
       "      <th>user_id</th>\n",
       "      <th></th>\n",
       "      <th></th>\n",
       "      <th></th>\n",
       "    </tr>\n",
       "  </thead>\n",
       "  <tbody>\n",
       "    <tr>\n",
       "      <th>101</th>\n",
       "      <td>1</td>\n",
       "      <td>1</td>\n",
       "      <td>1</td>\n",
       "    </tr>\n",
       "    <tr>\n",
       "      <th>789</th>\n",
       "      <td>1</td>\n",
       "      <td>1</td>\n",
       "      <td>1</td>\n",
       "    </tr>\n",
       "    <tr>\n",
       "      <th>958</th>\n",
       "      <td>1</td>\n",
       "      <td>1</td>\n",
       "      <td>1</td>\n",
       "    </tr>\n",
       "    <tr>\n",
       "      <th>1379</th>\n",
       "      <td>1</td>\n",
       "      <td>1</td>\n",
       "      <td>1</td>\n",
       "    </tr>\n",
       "    <tr>\n",
       "      <th>1687</th>\n",
       "      <td>1</td>\n",
       "      <td>1</td>\n",
       "      <td>1</td>\n",
       "    </tr>\n",
       "    <tr>\n",
       "      <th>...</th>\n",
       "      <td>...</td>\n",
       "      <td>...</td>\n",
       "      <td>...</td>\n",
       "    </tr>\n",
       "    <tr>\n",
       "      <th>922358000021</th>\n",
       "      <td>1</td>\n",
       "      <td>1</td>\n",
       "      <td>1</td>\n",
       "    </tr>\n",
       "    <tr>\n",
       "      <th>922358250048</th>\n",
       "      <td>1</td>\n",
       "      <td>1</td>\n",
       "      <td>1</td>\n",
       "    </tr>\n",
       "    <tr>\n",
       "      <th>922374750066</th>\n",
       "      <td>1</td>\n",
       "      <td>1</td>\n",
       "      <td>1</td>\n",
       "    </tr>\n",
       "    <tr>\n",
       "      <th>922376500042</th>\n",
       "      <td>1</td>\n",
       "      <td>1</td>\n",
       "      <td>1</td>\n",
       "    </tr>\n",
       "    <tr>\n",
       "      <th>922459250004</th>\n",
       "      <td>1</td>\n",
       "      <td>1</td>\n",
       "      <td>1</td>\n",
       "    </tr>\n",
       "  </tbody>\n",
       "</table>\n",
       "<p>22658 rows × 3 columns</p>\n",
       "</div>"
      ],
      "text/plain": [
       "              item_id  discount_day  experiment\n",
       "user_id                                        \n",
       "101                 1             1           1\n",
       "789                 1             1           1\n",
       "958                 1             1           1\n",
       "1379                1             1           1\n",
       "1687                1             1           1\n",
       "...               ...           ...         ...\n",
       "922358000021        1             1           1\n",
       "922358250048        1             1           1\n",
       "922374750066        1             1           1\n",
       "922376500042        1             1           1\n",
       "922459250004        1             1           1\n",
       "\n",
       "[22658 rows x 3 columns]"
      ]
     },
     "execution_count": 862,
     "metadata": {},
     "output_type": "execute_result"
    }
   ],
   "source": [
    "services_verification_discount.groupby(['user_id']).count()"
   ]
  },
  {
   "attachments": {},
   "cell_type": "markdown",
   "metadata": {},
   "source": [
    "#### В таблице о прохождении верификации дублируются даты выдачи скидки для каждого объявления пользователя "
   ]
  },
  {
   "cell_type": "code",
   "execution_count": 863,
   "metadata": {},
   "outputs": [
    {
     "data": {
      "text/plain": [
       "array([  3,   2,   4,   9,  10,   7,  15,   5,  12,  17,   8,  37,  34,\n",
       "         6,  32,  26, 109, 312,  11,  21,  30,  38,  20,  27,  51,  28,\n",
       "        25,  13,  54,  35,  41,  95,  18,  14,  19,  29,  16,  58,  23,\n",
       "        42,  44,  24,  59,  31,  60,  61,  40,  50], dtype=int64)"
      ]
     },
     "execution_count": 863,
     "metadata": {},
     "output_type": "execute_result"
    }
   ],
   "source": [
    "services_verification_discount.groupby(['user_id']).count().query(\"item_id > 1\")['item_id'].unique()"
   ]
  },
  {
   "cell_type": "code",
   "execution_count": 864,
   "metadata": {},
   "outputs": [
    {
     "data": {
      "text/html": [
       "<div>\n",
       "<style scoped>\n",
       "    .dataframe tbody tr th:only-of-type {\n",
       "        vertical-align: middle;\n",
       "    }\n",
       "\n",
       "    .dataframe tbody tr th {\n",
       "        vertical-align: top;\n",
       "    }\n",
       "\n",
       "    .dataframe thead th {\n",
       "        text-align: right;\n",
       "    }\n",
       "</style>\n",
       "<table border=\"1\" class=\"dataframe\">\n",
       "  <thead>\n",
       "    <tr style=\"text-align: right;\">\n",
       "      <th></th>\n",
       "      <th>item_id</th>\n",
       "      <th>discount_day</th>\n",
       "      <th>experiment</th>\n",
       "    </tr>\n",
       "    <tr>\n",
       "      <th>user_id</th>\n",
       "      <th></th>\n",
       "      <th></th>\n",
       "      <th></th>\n",
       "    </tr>\n",
       "  </thead>\n",
       "  <tbody>\n",
       "    <tr>\n",
       "      <th>368014725</th>\n",
       "      <td>312</td>\n",
       "      <td>312</td>\n",
       "      <td>312</td>\n",
       "    </tr>\n",
       "  </tbody>\n",
       "</table>\n",
       "</div>"
      ],
      "text/plain": [
       "           item_id  discount_day  experiment\n",
       "user_id                                     \n",
       "368014725      312           312         312"
      ]
     },
     "execution_count": 864,
     "metadata": {},
     "output_type": "execute_result"
    }
   ],
   "source": [
    "services_verification_discount.groupby(['user_id']).count().query(\"item_id > 1 & item_id == 312\")"
   ]
  },
  {
   "cell_type": "code",
   "execution_count": 865,
   "metadata": {},
   "outputs": [
    {
     "data": {
      "text/html": [
       "<div>\n",
       "<style scoped>\n",
       "    .dataframe tbody tr th:only-of-type {\n",
       "        vertical-align: middle;\n",
       "    }\n",
       "\n",
       "    .dataframe tbody tr th {\n",
       "        vertical-align: top;\n",
       "    }\n",
       "\n",
       "    .dataframe thead th {\n",
       "        text-align: right;\n",
       "    }\n",
       "</style>\n",
       "<table border=\"1\" class=\"dataframe\">\n",
       "  <thead>\n",
       "    <tr style=\"text-align: right;\">\n",
       "      <th></th>\n",
       "      <th>user_id</th>\n",
       "      <th>item_id</th>\n",
       "      <th>discount_day</th>\n",
       "      <th>experiment</th>\n",
       "    </tr>\n",
       "  </thead>\n",
       "  <tbody>\n",
       "    <tr>\n",
       "      <th>388</th>\n",
       "      <td>368014725</td>\n",
       "      <td>683069500046</td>\n",
       "      <td>2021-09-23</td>\n",
       "      <td>1_verification_test</td>\n",
       "    </tr>\n",
       "    <tr>\n",
       "      <th>391</th>\n",
       "      <td>368014725</td>\n",
       "      <td>684253250145</td>\n",
       "      <td>2021-09-23</td>\n",
       "      <td>1_verification_test</td>\n",
       "    </tr>\n",
       "    <tr>\n",
       "      <th>393</th>\n",
       "      <td>368014725</td>\n",
       "      <td>684509251605</td>\n",
       "      <td>2021-09-23</td>\n",
       "      <td>1_verification_test</td>\n",
       "    </tr>\n",
       "    <tr>\n",
       "      <th>442</th>\n",
       "      <td>368014725</td>\n",
       "      <td>781626000108</td>\n",
       "      <td>2021-09-23</td>\n",
       "      <td>1_verification_test</td>\n",
       "    </tr>\n",
       "    <tr>\n",
       "      <th>444</th>\n",
       "      <td>368014725</td>\n",
       "      <td>782405000191</td>\n",
       "      <td>2021-09-23</td>\n",
       "      <td>1_verification_test</td>\n",
       "    </tr>\n",
       "    <tr>\n",
       "      <th>...</th>\n",
       "      <td>...</td>\n",
       "      <td>...</td>\n",
       "      <td>...</td>\n",
       "      <td>...</td>\n",
       "    </tr>\n",
       "    <tr>\n",
       "      <th>29493</th>\n",
       "      <td>368014725</td>\n",
       "      <td>802224500002</td>\n",
       "      <td>2021-09-23</td>\n",
       "      <td>1_verification_test</td>\n",
       "    </tr>\n",
       "    <tr>\n",
       "      <th>29494</th>\n",
       "      <td>368014725</td>\n",
       "      <td>802237000043</td>\n",
       "      <td>2021-09-23</td>\n",
       "      <td>1_verification_test</td>\n",
       "    </tr>\n",
       "    <tr>\n",
       "      <th>29495</th>\n",
       "      <td>368014725</td>\n",
       "      <td>802254000163</td>\n",
       "      <td>2021-09-23</td>\n",
       "      <td>1_verification_test</td>\n",
       "    </tr>\n",
       "    <tr>\n",
       "      <th>29496</th>\n",
       "      <td>368014725</td>\n",
       "      <td>802887750084</td>\n",
       "      <td>2021-09-23</td>\n",
       "      <td>1_verification_test</td>\n",
       "    </tr>\n",
       "    <tr>\n",
       "      <th>29789</th>\n",
       "      <td>368014725</td>\n",
       "      <td>1086870000388</td>\n",
       "      <td>2021-09-23</td>\n",
       "      <td>1_verification_test</td>\n",
       "    </tr>\n",
       "  </tbody>\n",
       "</table>\n",
       "<p>312 rows × 4 columns</p>\n",
       "</div>"
      ],
      "text/plain": [
       "         user_id        item_id discount_day           experiment\n",
       "388    368014725   683069500046   2021-09-23  1_verification_test\n",
       "391    368014725   684253250145   2021-09-23  1_verification_test\n",
       "393    368014725   684509251605   2021-09-23  1_verification_test\n",
       "442    368014725   781626000108   2021-09-23  1_verification_test\n",
       "444    368014725   782405000191   2021-09-23  1_verification_test\n",
       "...          ...            ...          ...                  ...\n",
       "29493  368014725   802224500002   2021-09-23  1_verification_test\n",
       "29494  368014725   802237000043   2021-09-23  1_verification_test\n",
       "29495  368014725   802254000163   2021-09-23  1_verification_test\n",
       "29496  368014725   802887750084   2021-09-23  1_verification_test\n",
       "29789  368014725  1086870000388   2021-09-23  1_verification_test\n",
       "\n",
       "[312 rows x 4 columns]"
      ]
     },
     "execution_count": 865,
     "metadata": {},
     "output_type": "execute_result"
    }
   ],
   "source": [
    "services_verification_discount.query(\"user_id == 368014725\")"
   ]
  },
  {
   "attachments": {},
   "cell_type": "markdown",
   "metadata": {},
   "source": [
    "Запись о верификации добавляется для каждого айтема юзера, уберу айтем и дропну дубликаты"
   ]
  },
  {
   "cell_type": "code",
   "execution_count": 866,
   "metadata": {},
   "outputs": [],
   "source": [
    "discount_no_duplicates = services_verification_discount[['user_id', 'discount_day']].drop_duplicates()"
   ]
  },
  {
   "attachments": {},
   "cell_type": "markdown",
   "metadata": {},
   "source": [
    "-----"
   ]
  },
  {
   "attachments": {},
   "cell_type": "markdown",
   "metadata": {},
   "source": [
    "## Здесь начинается тело теста "
   ]
  },
  {
   "attachments": {},
   "cell_type": "markdown",
   "metadata": {},
   "source": [
    "### Планирование"
   ]
  },
  {
   "attachments": {},
   "cell_type": "markdown",
   "metadata": {},
   "source": [
    "#### Хочу смотреть две метрики \n",
    "- Конверсия в верификацию \n",
    "- *ARPU* по верифицирующимся \n",
    "\n",
    "#### Ожидания\n",
    "- Конверсия больше, чем больше скидка\n",
    "- Кажется что просядем по выручке из-за скидок \n",
    "\n",
    "Скорее всего будет трейдоф по конверсии и  *ARPU*"
   ]
  },
  {
   "attachments": {},
   "cell_type": "markdown",
   "metadata": {},
   "source": [
    "---------"
   ]
  },
  {
   "cell_type": "code",
   "execution_count": 867,
   "metadata": {},
   "outputs": [],
   "source": [
    "for_plot = user_payments_info[['event_time', 'amount_net']].copy()\n",
    "for_plot.event_time = pd.to_datetime(for_plot.event_time).round('D')\n",
    "for_plot = for_plot[['event_time', 'amount_net']].groupby('event_time').sum().reset_index()"
   ]
  },
  {
   "attachments": {},
   "cell_type": "markdown",
   "metadata": {},
   "source": [
    "Доходы по дням, видим что есть недельная сезонность"
   ]
  },
  {
   "cell_type": "code",
   "execution_count": 868,
   "metadata": {},
   "outputs": [
    {
     "data": {
      "image/png": "[encoded data removed]",
      "text/plain": [
       "<Figure size 1500x500 with 1 Axes>"
      ]
     },
     "metadata": {},
     "output_type": "display_data"
    }
   ],
   "source": [
    "plt.figure(figsize=(15, 5))\n",
    "plt.plot(for_plot.event_time, for_plot.amount_net)\n",
    "plt.xlabel('event_time')\n",
    "plt.ylabel('Sum of payments')\n",
    "plt.show()"
   ]
  },
  {
   "cell_type": "code",
   "execution_count": 869,
   "metadata": {},
   "outputs": [],
   "source": [
    "df_for_plan = user_payments_info[['user_id', 'event_time', 'amount_net']].copy()\n",
    "df_for_plan.event_time = pd.to_datetime(df_for_plan.event_time).round('D')"
   ]
  },
  {
   "cell_type": "code",
   "execution_count": 870,
   "metadata": {},
   "outputs": [
    {
     "data": {
      "text/html": [
       "<div>\n",
       "<style scoped>\n",
       "    .dataframe tbody tr th:only-of-type {\n",
       "        vertical-align: middle;\n",
       "    }\n",
       "\n",
       "    .dataframe tbody tr th {\n",
       "        vertical-align: top;\n",
       "    }\n",
       "\n",
       "    .dataframe thead th {\n",
       "        text-align: right;\n",
       "    }\n",
       "</style>\n",
       "<table border=\"1\" class=\"dataframe\">\n",
       "  <thead>\n",
       "    <tr style=\"text-align: right;\">\n",
       "      <th></th>\n",
       "      <th>user_id</th>\n",
       "      <th>event_time</th>\n",
       "      <th>amount_net</th>\n",
       "    </tr>\n",
       "  </thead>\n",
       "  <tbody>\n",
       "    <tr>\n",
       "      <th>0</th>\n",
       "      <td>193193750074</td>\n",
       "      <td>2021-07-18</td>\n",
       "      <td>21.000000</td>\n",
       "    </tr>\n",
       "    <tr>\n",
       "      <th>1</th>\n",
       "      <td>193193750074</td>\n",
       "      <td>2021-07-28</td>\n",
       "      <td>26.923077</td>\n",
       "    </tr>\n",
       "    <tr>\n",
       "      <th>2</th>\n",
       "      <td>218661250010</td>\n",
       "      <td>2021-07-09</td>\n",
       "      <td>84.692308</td>\n",
       "    </tr>\n",
       "    <tr>\n",
       "      <th>3</th>\n",
       "      <td>91246750001</td>\n",
       "      <td>2021-07-22</td>\n",
       "      <td>61.538462</td>\n",
       "    </tr>\n",
       "    <tr>\n",
       "      <th>4</th>\n",
       "      <td>91246750001</td>\n",
       "      <td>2021-07-22</td>\n",
       "      <td>61.538462</td>\n",
       "    </tr>\n",
       "  </tbody>\n",
       "</table>\n",
       "</div>"
      ],
      "text/plain": [
       "        user_id event_time  amount_net\n",
       "0  193193750074 2021-07-18   21.000000\n",
       "1  193193750074 2021-07-28   26.923077\n",
       "2  218661250010 2021-07-09   84.692308\n",
       "3   91246750001 2021-07-22   61.538462\n",
       "4   91246750001 2021-07-22   61.538462"
      ]
     },
     "execution_count": 870,
     "metadata": {},
     "output_type": "execute_result"
    }
   ],
   "source": [
    "df_for_plan.head()"
   ]
  },
  {
   "cell_type": "code",
   "execution_count": 871,
   "metadata": {},
   "outputs": [
    {
     "data": {
      "text/plain": [
       "(Timestamp('2021-06-01 00:00:00'), Timestamp('2021-12-02 00:00:00'))"
      ]
     },
     "execution_count": 871,
     "metadata": {},
     "output_type": "execute_result"
    }
   ],
   "source": [
    "df_for_plan.event_time.min(), df_for_plan.event_time.max()"
   ]
  },
  {
   "attachments": {},
   "cell_type": "markdown",
   "metadata": {},
   "source": [
    "Здесь я считаю какой относительный *MDE*, который мы можем получить за время действия теста "
   ]
  },
  {
   "cell_type": "code",
   "execution_count": 872,
   "metadata": {},
   "outputs": [],
   "source": [
    "def choose_date(data, start_date, delta, share): \n",
    "    tmp = data[(data.event_time>=start_date)&(data.event_time<=start_date+datetime.timedelta(days=delta))]\n",
    "\n",
    "    payments_pred = pd.merge(verification_experiment_segment, tmp, on=['user_id'], how='left')\n",
    "    payments_pred = payments_pred[['user_id', 'event_time', 'amount_net']]\n",
    "    payments_pred.event_time = pd.to_datetime(payments_pred.event_time.fillna('2021-06-01'))\n",
    "    payments_pred.amount_net = payments_pred.amount_net.fillna(0)\n",
    "\n",
    "    tmp=payments_pred.groupby(['user_id']).sum().reset_index()\n",
    "    x = tmp[(tmp.user_id)%100<=int(100*share)].reset_index()\n",
    "    return x"
   ]
  },
  {
   "cell_type": "code",
   "execution_count": 873,
   "metadata": {},
   "outputs": [
    {
     "name": "stdout",
     "output_type": "stream",
     "text": [
      "For result_effect = 0.01, we need to enlarge number of observations in 341.663 times\n",
      "For result_effect = 0.02, we need to enlarge number of observations in 85.416 times\n",
      "For result_effect = 0.03, we need to enlarge number of observations in 37.963 times\n",
      "For result_effect = 0.04, we need to enlarge number of observations in 21.354 times\n",
      "For result_effect = 0.05, we need to enlarge number of observations in 13.667 times\n",
      "For result_effect = 0.06, we need to enlarge number of observations in 9.491 times\n",
      "For result_effect = 0.07, we need to enlarge number of observations in 6.973 times\n",
      "For result_effect = 0.08, we need to enlarge number of observations in 5.338 times\n",
      "For result_effect = 0.09, we need to enlarge number of observations in 4.218 times\n",
      "For result_effect = 0.1, we need to enlarge number of observations in 3.417 times\n",
      "For result_effect = 0.11, we need to enlarge number of observations in 2.824 times\n",
      "For result_effect = 0.12, we need to enlarge number of observations in 2.373 times\n",
      "For result_effect = 0.13, we need to enlarge number of observations in 2.022 times\n",
      "For result_effect = 0.14, we need to enlarge number of observations in 1.743 times\n",
      "For result_effect = 0.15, we need to enlarge number of observations in 1.519 times\n",
      "For result_effect = 0.16, we need to enlarge number of observations in 1.335 times\n",
      "For result_effect = 0.17, we need to enlarge number of observations in 1.182 times\n",
      "For result_effect = 0.18, we need to enlarge number of observations in 1.055 times\n",
      "For result_effect = 0.19, we need to enlarge number of observations in 0.946 times\n",
      "For result_effect = 0.2, we need to enlarge number of observations in 0.854 times\n"
     ]
    }
   ],
   "source": [
    "for result_effect in np.linspace(0.01, 0.20, 20).round(2):\n",
    "    x1 =choose_date(df_for_plan, datetime.datetime(2021, 6, 1, 0, 0), 90, 0.33) #получаем необходимую подвыборку\n",
    "\n",
    "    mean = x1.amount_net.mean()\n",
    "    std = x1.amount_net.std()\n",
    "\n",
    "    alpha = 0.01\n",
    "    power = 0.8\n",
    "    # result_effect = 0.15 # целевой размер относительного отклоенения исходной метрики\n",
    "    effect_size = (mean / std) * result_effect\n",
    "\n",
    "    num_obs = tt_ind_solve_power(effect_size=effect_size, alpha = alpha, power = power, ratio=1.0, alternative='two-sided')\n",
    "\n",
    "    print(f\"For result_effect = {result_effect}, we need to enlarge number of observations in {round((num_obs / x1.shape[0]), 3)} times\")"
   ]
  },
  {
   "attachments": {},
   "cell_type": "markdown",
   "metadata": {},
   "source": [
    "#### Соответственно при выбранных параметрах $\\alpha=0.01, power=0.8$ и допустимом времени эксперимента в 90 дней $\\newline$ мы сможем отловить относительный MDE только в 19%, или меньший, но уже с меньшей мощностью \n",
    "#### При этом в самом эксперименте мы будем смотреть только на верифицровавшихся пользователей "
   ]
  },
  {
   "attachments": {},
   "cell_type": "markdown",
   "metadata": {},
   "source": [
    "-------------------------"
   ]
  },
  {
   "attachments": {},
   "cell_type": "markdown",
   "metadata": {},
   "source": [
    "### Сравниваю конверсии в верификацию на конец эксперимента"
   ]
  },
  {
   "attachments": {},
   "cell_type": "markdown",
   "metadata": {},
   "source": [
    "$H_0: Conversion_{nodisc} = Conversion_{30disc} = Conversion_{60disc}$\n",
    "\n",
    "$H_1: Conversion_{nodisc} \\neq Conversion_{30disc} \\neq Conversion_{60disc}$"
   ]
  },
  {
   "cell_type": "code",
   "execution_count": 874,
   "metadata": {},
   "outputs": [],
   "source": [
    "verification_in_groups = pd.merge(verification_experiment_segment, discount_no_duplicates, on='user_id', how='left')\n",
    "verification_in_groups['is_verificated'] = verification_in_groups['discount_day'].replace({np.nan: False}).astype('bool').astype('int')"
   ]
  },
  {
   "cell_type": "code",
   "execution_count": 875,
   "metadata": {},
   "outputs": [
    {
     "data": {
      "text/html": [
       "<div>\n",
       "<style scoped>\n",
       "    .dataframe tbody tr th:only-of-type {\n",
       "        vertical-align: middle;\n",
       "    }\n",
       "\n",
       "    .dataframe tbody tr th {\n",
       "        vertical-align: top;\n",
       "    }\n",
       "\n",
       "    .dataframe thead th {\n",
       "        text-align: right;\n",
       "    }\n",
       "</style>\n",
       "<table border=\"1\" class=\"dataframe\">\n",
       "  <thead>\n",
       "    <tr style=\"text-align: right;\">\n",
       "      <th></th>\n",
       "      <th>user_id</th>\n",
       "      <th>experiment_group</th>\n",
       "      <th>UserType</th>\n",
       "      <th>RegistrationTime</th>\n",
       "      <th>discount_day</th>\n",
       "      <th>is_verificated</th>\n",
       "    </tr>\n",
       "  </thead>\n",
       "  <tbody>\n",
       "    <tr>\n",
       "      <th>0</th>\n",
       "      <td>1085</td>\n",
       "      <td>no_discount</td>\n",
       "      <td>Private</td>\n",
       "      <td>2010-04-03 13:26:41.366</td>\n",
       "      <td>NaN</td>\n",
       "      <td>0</td>\n",
       "    </tr>\n",
       "    <tr>\n",
       "      <th>1</th>\n",
       "      <td>1578</td>\n",
       "      <td>no_discount</td>\n",
       "      <td>Private</td>\n",
       "      <td>2010-08-09 10:27:41.001</td>\n",
       "      <td>NaN</td>\n",
       "      <td>0</td>\n",
       "    </tr>\n",
       "    <tr>\n",
       "      <th>2</th>\n",
       "      <td>2037</td>\n",
       "      <td>30_discount</td>\n",
       "      <td>Company</td>\n",
       "      <td>2010-10-13 22:07:26.026</td>\n",
       "      <td>2021-10-07</td>\n",
       "      <td>1</td>\n",
       "    </tr>\n",
       "    <tr>\n",
       "      <th>3</th>\n",
       "      <td>3586</td>\n",
       "      <td>30_discount</td>\n",
       "      <td>Private</td>\n",
       "      <td>2011-02-11 15:38:06.254</td>\n",
       "      <td>NaN</td>\n",
       "      <td>0</td>\n",
       "    </tr>\n",
       "    <tr>\n",
       "      <th>4</th>\n",
       "      <td>4482</td>\n",
       "      <td>no_discount</td>\n",
       "      <td>Private</td>\n",
       "      <td>2011-04-02 14:12:17.220</td>\n",
       "      <td>NaN</td>\n",
       "      <td>0</td>\n",
       "    </tr>\n",
       "  </tbody>\n",
       "</table>\n",
       "</div>"
      ],
      "text/plain": [
       "   user_id experiment_group UserType         RegistrationTime discount_day  \\\n",
       "0     1085      no_discount  Private  2010-04-03 13:26:41.366          NaN   \n",
       "1     1578      no_discount  Private  2010-08-09 10:27:41.001          NaN   \n",
       "2     2037      30_discount  Company  2010-10-13 22:07:26.026   2021-10-07   \n",
       "3     3586      30_discount  Private  2011-02-11 15:38:06.254          NaN   \n",
       "4     4482      no_discount  Private  2011-04-02 14:12:17.220          NaN   \n",
       "\n",
       "   is_verificated  \n",
       "0               0  \n",
       "1               0  \n",
       "2               1  \n",
       "3               0  \n",
       "4               0  "
      ]
     },
     "execution_count": 875,
     "metadata": {},
     "output_type": "execute_result"
    }
   ],
   "source": [
    "verification_in_groups.head()"
   ]
  },
  {
   "cell_type": "code",
   "execution_count": 876,
   "metadata": {},
   "outputs": [],
   "source": [
    "group_no_discount = verification_in_groups.query(\"experiment_group == 'no_discount'\")['is_verificated']\n",
    "group_30_discount = verification_in_groups.query(\"experiment_group == '30_discount'\")['is_verificated']\n",
    "group_60_discount = verification_in_groups.query(\"experiment_group == '60_discount'\")['is_verificated']"
   ]
  },
  {
   "cell_type": "code",
   "execution_count": 877,
   "metadata": {},
   "outputs": [
    {
     "name": "stdout",
     "output_type": "stream",
     "text": [
      "group_no_discount mean: 0.026847816732257283, group_30_discount mean: 0.029511479752743788, group_60_discount mean: 0.0327886963829846\n"
     ]
    }
   ],
   "source": [
    "print(f'group_no_discount mean: {group_no_discount.mean()}, group_30_discount mean: {group_30_discount.mean()}, group_60_discount mean: {group_60_discount.mean()}')"
   ]
  },
  {
   "cell_type": "code",
   "execution_count": 878,
   "metadata": {},
   "outputs": [
    {
     "name": "stdout",
     "output_type": "stream",
     "text": [
      "Ttest_indResult(statistic=5.744066609782671, pvalue=9.24817641186568e-09) \n",
      " Ttest_indResult(statistic=6.717218771897073, pvalue=1.8541994120549372e-11) \n",
      " Ttest_indResult(statistic=12.464991483226907, pvalue=1.1728381169824205e-35)\n"
     ]
    }
   ],
   "source": [
    "print(ttest_ind(group_30_discount, group_no_discount),'\\n',\n",
    "ttest_ind(group_60_discount, group_30_discount),'\\n',\n",
    "ttest_ind(group_60_discount, group_no_discount))"
   ]
  },
  {
   "cell_type": "code",
   "execution_count": 879,
   "metadata": {},
   "outputs": [
    {
     "name": "stdout",
     "output_type": "stream",
     "text": [
      "Relative CI for grops no_discount and 60_discount 0.22 ± 0.05\n"
     ]
    }
   ],
   "source": [
    "group_no_discount_sm, group_60_discount_sm = sms.DescrStatsW(group_no_discount), sms.DescrStatsW(group_60_discount)\n",
    "cm = sms.CompareMeans(group_60_discount_sm, group_no_discount_sm)\n",
    "interval = print_interval(np.array(cm.tconfint_diff(alpha=0.01)) / group_no_discount.mean()) \n",
    "print(f\"Relative CI for grops no_discount and 60_discount {interval}\")"
   ]
  },
  {
   "attachments": {},
   "cell_type": "markdown",
   "metadata": {},
   "source": [
    "### Все тесты прокрасились $C_{nodisc} < C_{30disc} < C_{60disc}$"
   ]
  },
  {
   "attachments": {},
   "cell_type": "markdown",
   "metadata": {},
   "source": [
    "---------------------------------------"
   ]
  },
  {
   "attachments": {},
   "cell_type": "markdown",
   "metadata": {},
   "source": [
    "### Хочу посмотреть средний доход на пользователя на конец эксперимента\n",
    "\n",
    "$H_0: ARPU_{nodisc} =ARPU_{30disc} = ARPU_{60disc}$\n",
    "\n",
    "$H_1: ARPU_{nodisc} \\neq ARPU_{30disc} \\neq ARPU_{60disc}$"
   ]
  },
  {
   "cell_type": "code",
   "execution_count": 880,
   "metadata": {},
   "outputs": [],
   "source": [
    "payments_after_verification = pd.merge(services_verification_discount, user_payments_info.query(\"event_time > '2021-09-15' & item_id != 'no_item'\"), on=['user_id', 'item_id'], how='left')"
   ]
  },
  {
   "cell_type": "code",
   "execution_count": 881,
   "metadata": {},
   "outputs": [],
   "source": [
    "payments_after_verification['event_time'] = payments_after_verification['event_time'].fillna('2049-11-08')\n",
    "payments_after_verification = payments_after_verification.fillna(0)"
   ]
  },
  {
   "cell_type": "code",
   "execution_count": 882,
   "metadata": {},
   "outputs": [
    {
     "data": {
      "text/html": [
       "<div>\n",
       "<style scoped>\n",
       "    .dataframe tbody tr th:only-of-type {\n",
       "        vertical-align: middle;\n",
       "    }\n",
       "\n",
       "    .dataframe tbody tr th {\n",
       "        vertical-align: top;\n",
       "    }\n",
       "\n",
       "    .dataframe thead th {\n",
       "        text-align: right;\n",
       "    }\n",
       "</style>\n",
       "<table border=\"1\" class=\"dataframe\">\n",
       "  <thead>\n",
       "    <tr style=\"text-align: right;\">\n",
       "      <th></th>\n",
       "      <th>user_id</th>\n",
       "      <th>item_id</th>\n",
       "      <th>discount_day</th>\n",
       "      <th>experiment</th>\n",
       "      <th>event_time</th>\n",
       "      <th>transaction_type</th>\n",
       "      <th>transaction_subtype</th>\n",
       "      <th>amount_net</th>\n",
       "    </tr>\n",
       "  </thead>\n",
       "  <tbody>\n",
       "    <tr>\n",
       "      <th>0</th>\n",
       "      <td>49000737</td>\n",
       "      <td>11352751363</td>\n",
       "      <td>2021-10-01</td>\n",
       "      <td>1_verification_test</td>\n",
       "      <td>2021-11-08 08:36:05.000</td>\n",
       "      <td>4.0</td>\n",
       "      <td>3.0</td>\n",
       "      <td>36.615385</td>\n",
       "    </tr>\n",
       "    <tr>\n",
       "      <th>1</th>\n",
       "      <td>49000737</td>\n",
       "      <td>11352751363</td>\n",
       "      <td>2021-10-01</td>\n",
       "      <td>1_verification_test</td>\n",
       "      <td>2021-10-08 11:54:09.000</td>\n",
       "      <td>4.0</td>\n",
       "      <td>3.0</td>\n",
       "      <td>36.615385</td>\n",
       "    </tr>\n",
       "    <tr>\n",
       "      <th>2</th>\n",
       "      <td>4255271</td>\n",
       "      <td>78048500109</td>\n",
       "      <td>2021-10-10</td>\n",
       "      <td>1_verification_test</td>\n",
       "      <td>2021-10-09 14:54:17.000</td>\n",
       "      <td>4.0</td>\n",
       "      <td>3.0</td>\n",
       "      <td>68.846154</td>\n",
       "    </tr>\n",
       "    <tr>\n",
       "      <th>3</th>\n",
       "      <td>111000153</td>\n",
       "      <td>101676750179</td>\n",
       "      <td>2021-10-02</td>\n",
       "      <td>1_verification_test</td>\n",
       "      <td>2049-11-08</td>\n",
       "      <td>0.0</td>\n",
       "      <td>0.0</td>\n",
       "      <td>0.000000</td>\n",
       "    </tr>\n",
       "    <tr>\n",
       "      <th>4</th>\n",
       "      <td>110750728</td>\n",
       "      <td>162344000369</td>\n",
       "      <td>2021-10-14</td>\n",
       "      <td>1_verification_test</td>\n",
       "      <td>2049-11-08</td>\n",
       "      <td>0.0</td>\n",
       "      <td>0.0</td>\n",
       "      <td>0.000000</td>\n",
       "    </tr>\n",
       "  </tbody>\n",
       "</table>\n",
       "</div>"
      ],
      "text/plain": [
       "     user_id       item_id discount_day           experiment  \\\n",
       "0   49000737   11352751363   2021-10-01  1_verification_test   \n",
       "1   49000737   11352751363   2021-10-01  1_verification_test   \n",
       "2    4255271   78048500109   2021-10-10  1_verification_test   \n",
       "3  111000153  101676750179   2021-10-02  1_verification_test   \n",
       "4  110750728  162344000369   2021-10-14  1_verification_test   \n",
       "\n",
       "                event_time  transaction_type  transaction_subtype  amount_net  \n",
       "0  2021-11-08 08:36:05.000               4.0                  3.0   36.615385  \n",
       "1  2021-10-08 11:54:09.000               4.0                  3.0   36.615385  \n",
       "2  2021-10-09 14:54:17.000               4.0                  3.0   68.846154  \n",
       "3               2049-11-08               0.0                  0.0    0.000000  \n",
       "4               2049-11-08               0.0                  0.0    0.000000  "
      ]
     },
     "execution_count": 882,
     "metadata": {},
     "output_type": "execute_result"
    }
   ],
   "source": [
    "payments_after_verification.head()"
   ]
  },
  {
   "attachments": {},
   "cell_type": "markdown",
   "metadata": {},
   "source": [
    "Считаем ARPU"
   ]
  },
  {
   "cell_type": "code",
   "execution_count": 883,
   "metadata": {},
   "outputs": [],
   "source": [
    "payments_after_verification = payments_after_verification.query(\"event_time >= discount_day\")\n",
    "payments_after_verification_aggregated = payments_after_verification.groupby('user_id').sum().reset_index()[['user_id', 'amount_net']]\n",
    "payments_after_verification_aggregated = pd.merge(payments_after_verification_aggregated, verification_experiment_segment[['user_id', 'experiment_group', 'UserType']], on = 'user_id', how='left')"
   ]
  },
  {
   "cell_type": "code",
   "execution_count": 884,
   "metadata": {},
   "outputs": [
    {
     "data": {
      "text/html": [
       "<div>\n",
       "<style scoped>\n",
       "    .dataframe tbody tr th:only-of-type {\n",
       "        vertical-align: middle;\n",
       "    }\n",
       "\n",
       "    .dataframe tbody tr th {\n",
       "        vertical-align: top;\n",
       "    }\n",
       "\n",
       "    .dataframe thead th {\n",
       "        text-align: right;\n",
       "    }\n",
       "</style>\n",
       "<table border=\"1\" class=\"dataframe\">\n",
       "  <thead>\n",
       "    <tr style=\"text-align: right;\">\n",
       "      <th></th>\n",
       "      <th>user_id</th>\n",
       "      <th>amount_net</th>\n",
       "      <th>experiment_group</th>\n",
       "      <th>UserType</th>\n",
       "    </tr>\n",
       "  </thead>\n",
       "  <tbody>\n",
       "    <tr>\n",
       "      <th>0</th>\n",
       "      <td>101</td>\n",
       "      <td>0.000000</td>\n",
       "      <td>no_discount</td>\n",
       "      <td>Private</td>\n",
       "    </tr>\n",
       "    <tr>\n",
       "      <th>1</th>\n",
       "      <td>789</td>\n",
       "      <td>0.000000</td>\n",
       "      <td>30_discount</td>\n",
       "      <td>Private</td>\n",
       "    </tr>\n",
       "    <tr>\n",
       "      <th>2</th>\n",
       "      <td>958</td>\n",
       "      <td>0.000000</td>\n",
       "      <td>60_discount</td>\n",
       "      <td>Private</td>\n",
       "    </tr>\n",
       "    <tr>\n",
       "      <th>3</th>\n",
       "      <td>1379</td>\n",
       "      <td>0.000000</td>\n",
       "      <td>30_discount</td>\n",
       "      <td>Company</td>\n",
       "    </tr>\n",
       "    <tr>\n",
       "      <th>4</th>\n",
       "      <td>1687</td>\n",
       "      <td>107.692308</td>\n",
       "      <td>60_discount</td>\n",
       "      <td>Private</td>\n",
       "    </tr>\n",
       "  </tbody>\n",
       "</table>\n",
       "</div>"
      ],
      "text/plain": [
       "   user_id  amount_net experiment_group UserType\n",
       "0      101    0.000000      no_discount  Private\n",
       "1      789    0.000000      30_discount  Private\n",
       "2      958    0.000000      60_discount  Private\n",
       "3     1379    0.000000      30_discount  Company\n",
       "4     1687  107.692308      60_discount  Private"
      ]
     },
     "execution_count": 884,
     "metadata": {},
     "output_type": "execute_result"
    }
   ],
   "source": [
    "payments_after_verification_aggregated.head()"
   ]
  },
  {
   "attachments": {},
   "cell_type": "markdown",
   "metadata": {},
   "source": [
    "### Средний доход на пользователя после верификации "
   ]
  },
  {
   "cell_type": "code",
   "execution_count": 885,
   "metadata": {},
   "outputs": [],
   "source": [
    "group_no_discount = payments_after_verification_aggregated.query(\"experiment_group == 'no_discount'\")['amount_net']\n",
    "group_30_discount = payments_after_verification_aggregated.query(\"experiment_group == '30_discount'\")['amount_net']\n",
    "group_60_discount = payments_after_verification_aggregated.query(\"experiment_group == '60_discount'\")['amount_net']"
   ]
  },
  {
   "cell_type": "code",
   "execution_count": 886,
   "metadata": {},
   "outputs": [
    {
     "name": "stdout",
     "output_type": "stream",
     "text": [
      "group_no_discount mean: 103.32683639143731, group_30_discount mean: 142.25061916578045, group_60_discount mean: 154.09383559012775\n"
     ]
    }
   ],
   "source": [
    "print(f'group_no_discount mean: {group_no_discount.mean()}, group_30_discount mean: {group_30_discount.mean()}, group_60_discount mean: {group_60_discount.mean()}')"
   ]
  },
  {
   "cell_type": "code",
   "execution_count": 887,
   "metadata": {},
   "outputs": [
    {
     "name": "stdout",
     "output_type": "stream",
     "text": [
      "Ttest_indResult(statistic=-4.09232283550769, pvalue=4.295203004153962e-05) \n",
      " Ttest_indResult(statistic=1.2624701930728297, pvalue=0.20679905333452459) \n",
      " Ttest_indResult(statistic=6.317502780398883, pvalue=2.7355739902509427e-10)\n"
     ]
    }
   ],
   "source": [
    "print(ttest_ind(group_no_discount, group_30_discount),'\\n',\n",
    "ttest_ind(group_60_discount, group_30_discount),'\\n',\n",
    "ttest_ind(group_60_discount, group_no_discount))"
   ]
  },
  {
   "cell_type": "code",
   "execution_count": 888,
   "metadata": {},
   "outputs": [
    {
     "name": "stdout",
     "output_type": "stream",
     "text": [
      "Relative CI for grops no_discount and 60_discount 0.49 ± 0.2\n"
     ]
    }
   ],
   "source": [
    "group_no_discount_sm, group_60_discount_sm = sms.DescrStatsW(group_no_discount), sms.DescrStatsW(group_60_discount)\n",
    "cm = sms.CompareMeans(group_60_discount_sm, group_no_discount_sm)\n",
    "interval = print_interval(np.array(cm.tconfint_diff(alpha=0.01)) / group_no_discount.mean()) \n",
    "print(f\"Relative CI for grops no_discount and 60_discount {interval}\")"
   ]
  },
  {
   "attachments": {},
   "cell_type": "markdown",
   "metadata": {},
   "source": [
    "#### Один тест не прокрасился"
   ]
  },
  {
   "attachments": {},
   "cell_type": "markdown",
   "metadata": {},
   "source": [
    "##### $ARPU_{nodisc} < ARPU_{30disc} = ARPU_{60disc}$"
   ]
  },
  {
   "attachments": {},
   "cell_type": "markdown",
   "metadata": {},
   "source": [
    "#### *А если использовать CUPED*"
   ]
  },
  {
   "cell_type": "code",
   "execution_count": 889,
   "metadata": {},
   "outputs": [],
   "source": [
    "payments_on_pred = had_payments_on_pred[['user_id', 'amount_net']].fillna(0)"
   ]
  },
  {
   "cell_type": "code",
   "execution_count": 890,
   "metadata": {},
   "outputs": [
    {
     "data": {
      "text/html": [
       "<div>\n",
       "<style scoped>\n",
       "    .dataframe tbody tr th:only-of-type {\n",
       "        vertical-align: middle;\n",
       "    }\n",
       "\n",
       "    .dataframe tbody tr th {\n",
       "        vertical-align: top;\n",
       "    }\n",
       "\n",
       "    .dataframe thead th {\n",
       "        text-align: right;\n",
       "    }\n",
       "</style>\n",
       "<table border=\"1\" class=\"dataframe\">\n",
       "  <thead>\n",
       "    <tr style=\"text-align: right;\">\n",
       "      <th></th>\n",
       "      <th>user_id</th>\n",
       "      <th>amount_net_x</th>\n",
       "      <th>experiment_group</th>\n",
       "      <th>UserType</th>\n",
       "      <th>amount_net_y</th>\n",
       "    </tr>\n",
       "  </thead>\n",
       "  <tbody>\n",
       "    <tr>\n",
       "      <th>0</th>\n",
       "      <td>101</td>\n",
       "      <td>0.000000</td>\n",
       "      <td>no_discount</td>\n",
       "      <td>Private</td>\n",
       "      <td>384.769231</td>\n",
       "    </tr>\n",
       "    <tr>\n",
       "      <th>1</th>\n",
       "      <td>789</td>\n",
       "      <td>0.000000</td>\n",
       "      <td>30_discount</td>\n",
       "      <td>Private</td>\n",
       "      <td>235.846154</td>\n",
       "    </tr>\n",
       "    <tr>\n",
       "      <th>2</th>\n",
       "      <td>958</td>\n",
       "      <td>0.000000</td>\n",
       "      <td>60_discount</td>\n",
       "      <td>Private</td>\n",
       "      <td>0.000000</td>\n",
       "    </tr>\n",
       "    <tr>\n",
       "      <th>3</th>\n",
       "      <td>1379</td>\n",
       "      <td>0.000000</td>\n",
       "      <td>30_discount</td>\n",
       "      <td>Company</td>\n",
       "      <td>233.846154</td>\n",
       "    </tr>\n",
       "    <tr>\n",
       "      <th>4</th>\n",
       "      <td>1687</td>\n",
       "      <td>107.692308</td>\n",
       "      <td>60_discount</td>\n",
       "      <td>Private</td>\n",
       "      <td>0.000000</td>\n",
       "    </tr>\n",
       "    <tr>\n",
       "      <th>...</th>\n",
       "      <td>...</td>\n",
       "      <td>...</td>\n",
       "      <td>...</td>\n",
       "      <td>...</td>\n",
       "      <td>...</td>\n",
       "    </tr>\n",
       "    <tr>\n",
       "      <th>21706</th>\n",
       "      <td>922358000021</td>\n",
       "      <td>0.000000</td>\n",
       "      <td>30_discount</td>\n",
       "      <td>Private</td>\n",
       "      <td>0.000000</td>\n",
       "    </tr>\n",
       "    <tr>\n",
       "      <th>21707</th>\n",
       "      <td>922358250048</td>\n",
       "      <td>0.000000</td>\n",
       "      <td>30_discount</td>\n",
       "      <td>Private</td>\n",
       "      <td>0.000000</td>\n",
       "    </tr>\n",
       "    <tr>\n",
       "      <th>21708</th>\n",
       "      <td>922374750066</td>\n",
       "      <td>0.000000</td>\n",
       "      <td>no_discount</td>\n",
       "      <td>Private</td>\n",
       "      <td>0.000000</td>\n",
       "    </tr>\n",
       "    <tr>\n",
       "      <th>21709</th>\n",
       "      <td>922376500042</td>\n",
       "      <td>0.000000</td>\n",
       "      <td>30_discount</td>\n",
       "      <td>Private</td>\n",
       "      <td>0.000000</td>\n",
       "    </tr>\n",
       "    <tr>\n",
       "      <th>21710</th>\n",
       "      <td>922459250004</td>\n",
       "      <td>0.000000</td>\n",
       "      <td>no_discount</td>\n",
       "      <td>Private</td>\n",
       "      <td>0.000000</td>\n",
       "    </tr>\n",
       "  </tbody>\n",
       "</table>\n",
       "<p>21711 rows × 5 columns</p>\n",
       "</div>"
      ],
      "text/plain": [
       "            user_id  amount_net_x experiment_group UserType  amount_net_y\n",
       "0               101      0.000000      no_discount  Private    384.769231\n",
       "1               789      0.000000      30_discount  Private    235.846154\n",
       "2               958      0.000000      60_discount  Private      0.000000\n",
       "3              1379      0.000000      30_discount  Company    233.846154\n",
       "4              1687    107.692308      60_discount  Private      0.000000\n",
       "...             ...           ...              ...      ...           ...\n",
       "21706  922358000021      0.000000      30_discount  Private      0.000000\n",
       "21707  922358250048      0.000000      30_discount  Private      0.000000\n",
       "21708  922374750066      0.000000      no_discount  Private      0.000000\n",
       "21709  922376500042      0.000000      30_discount  Private      0.000000\n",
       "21710  922459250004      0.000000      no_discount  Private      0.000000\n",
       "\n",
       "[21711 rows x 5 columns]"
      ]
     },
     "execution_count": 890,
     "metadata": {},
     "output_type": "execute_result"
    }
   ],
   "source": [
    "df_for_cuped = pd.merge(payments_after_verification_aggregated, payments_on_pred, how='left', on='user_id')\n",
    "df_for_cuped"
   ]
  },
  {
   "cell_type": "code",
   "execution_count": 891,
   "metadata": {},
   "outputs": [],
   "source": [
    "df_for_cuped.rename(columns={'amount_net_x': 'amount_net',\n",
    "                                'amount_net_y':'amount_net_pred'}, inplace=True)\n",
    "\n",
    "theta = np.cov(df_for_cuped['amount_net'], df_for_cuped['amount_net_pred'], ddof=1)[0,1] / np.var(df_for_cuped['amount_net_pred'], ddof=1)\n",
    "df_for_cuped['cuped'] = df_for_cuped['amount_net'] - theta * (df_for_cuped['amount_net_pred'] - df_for_cuped['amount_net_pred'].mean())"
   ]
  },
  {
   "cell_type": "code",
   "execution_count": 892,
   "metadata": {},
   "outputs": [
    {
     "data": {
      "text/plain": [
       "0.019950830664191097"
      ]
     },
     "execution_count": 892,
     "metadata": {},
     "output_type": "execute_result"
    }
   ],
   "source": [
    "theta"
   ]
  },
  {
   "cell_type": "code",
   "execution_count": 893,
   "metadata": {},
   "outputs": [
    {
     "data": {
      "text/plain": [
       "(134.8950217365887, 134.8950217365887, 292157.12835218915, 284574.8460976471)"
      ]
     },
     "execution_count": 893,
     "metadata": {},
     "output_type": "execute_result"
    }
   ],
   "source": [
    "df_for_cuped.amount_net.mean(), df_for_cuped.cuped.mean(), df_for_cuped.amount_net.var(), df_for_cuped.cuped.var()"
   ]
  },
  {
   "attachments": {},
   "cell_type": "markdown",
   "metadata": {},
   "source": [
    "##### :\\ здесь *CUPED* особо не поможет, нет сильной корреляции с предериодом"
   ]
  },
  {
   "attachments": {},
   "cell_type": "markdown",
   "metadata": {},
   "source": [
    "### Оказалось что за счет скидки юзеры покупают более дорогие услуги -> ARPU выше где скидка выше"
   ]
  },
  {
   "attachments": {},
   "cell_type": "markdown",
   "metadata": {},
   "source": [
    "--------"
   ]
  },
  {
   "attachments": {},
   "cell_type": "markdown",
   "metadata": {},
   "source": [
    "### Тут я хочу посмотреть как зависит конверсия в верификацию от суммы покупок на предпериоде\n",
    "#### Для этого делю пользователей с предпериода на группы разбивкой по квантилям"
   ]
  },
  {
   "cell_type": "code",
   "execution_count": 894,
   "metadata": {},
   "outputs": [],
   "source": [
    "payments_on_pred_verificated = pd.merge(had_payments_on_pred, discount_no_duplicates, how='left', on='user_id')\n",
    "payments_on_pred_verificated['verificated'] = had_payments_on_pred_verificated['discount_day'].replace({np.nan: False}).astype('bool').astype('int')"
   ]
  },
  {
   "cell_type": "code",
   "execution_count": 895,
   "metadata": {},
   "outputs": [],
   "source": [
    "payments_on_pred_verificated = payments_on_pred_verificated[['user_id', 'experiment_group', 'amount_net', 'verificated']]\n",
    "payments_on_pred_verificated = payments_on_pred_verificated.fillna(0)"
   ]
  },
  {
   "attachments": {},
   "cell_type": "markdown",
   "metadata": {},
   "source": [
    "В группе *zero_payments* нет покупок, нахожу последний квантиль для этой группы"
   ]
  },
  {
   "cell_type": "code",
   "execution_count": 896,
   "metadata": {},
   "outputs": [],
   "source": [
    "zeros_quantile = payments_on_pred_verificated.query(\"amount_net == 0\").shape[0] / payments_on_pred_verificated.shape[0]\n",
    "zeros_quantile = round(zeros_quantile, 2)"
   ]
  },
  {
   "cell_type": "code",
   "execution_count": 897,
   "metadata": {},
   "outputs": [],
   "source": [
    "zero_payments = payments_on_pred_verificated.query(\"amount_net == 0\").groupby(['experiment_group']).mean().reset_index()# .sort_values(by='verificated')\n",
    "zero_payments['quantile_left'] = 0\n",
    "zero_payments['quantile_right'] = zeros_quantile\n",
    "zero_payments.rename(columns={'amount_net': 'mean_amount_net', 'verificated': 'mean_verificated', }, inplace=True)\n",
    "zero_payments.drop('user_id', inplace=True, axis=1)\n",
    "zero_payments = zero_payments[['quantile_left', 'quantile_right', 'experiment_group', 'mean_amount_net', 'mean_verificated']]"
   ]
  },
  {
   "attachments": {},
   "cell_type": "markdown",
   "metadata": {},
   "source": [
    "Здесь разбиваю по квантилям и считаю *verification rate* и *ARPU* в квантильных группах + разбивка по группам эксперимента"
   ]
  },
  {
   "cell_type": "code",
   "execution_count": 898,
   "metadata": {},
   "outputs": [],
   "source": [
    "segments = [0, zeros_quantile] + list(np.linspace(0.79, 1, num=8).round(2))\n",
    "df = payments_on_pred_verificated.copy()\n",
    "df_for_plot = pd.DataFrame(columns=['quantile_left', 'quantile_right', 'experiment_group', 'mean_amount_net', 'mean_verificated'])\n",
    "df_for_plot = pd.concat([zero_payments, df_for_plot], ignore_index=True)\n",
    "\n",
    "for pos in range(1, len(segments[:])):\n",
    "    df_to_print = df[(df.amount_net < df.amount_net.quantile(segments[pos])) & (df.amount_net > df.amount_net.quantile(segments[pos-1]))].copy()\n",
    "    df_to_print = df_to_print.groupby(['experiment_group']).mean().reset_index().sort_values(by='verificated')\n",
    "    \n",
    "    for group in df_to_print.experiment_group.unique():\n",
    "        group_means = df_to_print[df_to_print.experiment_group == group]\n",
    "        # print(f'beetween quantiles {segments[pos-1]:.3f}, and {segments[pos]:.3f} in group {group}, mean amount_net: {group_means.amount_net.values[0]:.3f}, verificated: {group_means.verificated.values[0]:.3f}')\n",
    "        stats = pd.DataFrame([[segments[pos-1], segments[pos], group, group_means.amount_net.values[0], group_means.verificated.values[0]]], columns=df_for_plot.columns)\n",
    "        df_for_plot = pd.concat([df_for_plot, stats], ignore_index=True)\n",
    "    # print()"
   ]
  },
  {
   "cell_type": "code",
   "execution_count": 899,
   "metadata": {},
   "outputs": [
    {
     "data": {
      "text/html": [
       "<div>\n",
       "<style scoped>\n",
       "    .dataframe tbody tr th:only-of-type {\n",
       "        vertical-align: middle;\n",
       "    }\n",
       "\n",
       "    .dataframe tbody tr th {\n",
       "        vertical-align: top;\n",
       "    }\n",
       "\n",
       "    .dataframe thead th {\n",
       "        text-align: right;\n",
       "    }\n",
       "</style>\n",
       "<table border=\"1\" class=\"dataframe\">\n",
       "  <thead>\n",
       "    <tr style=\"text-align: right;\">\n",
       "      <th></th>\n",
       "      <th>quantile_left</th>\n",
       "      <th>quantile_right</th>\n",
       "      <th>experiment_group</th>\n",
       "      <th>mean_amount_net</th>\n",
       "      <th>mean_verificated</th>\n",
       "      <th>quantiles</th>\n",
       "    </tr>\n",
       "  </thead>\n",
       "  <tbody>\n",
       "    <tr>\n",
       "      <th>0</th>\n",
       "      <td>0.00</td>\n",
       "      <td>0.66</td>\n",
       "      <td>30_discount</td>\n",
       "      <td>0.000000</td>\n",
       "      <td>0.015559</td>\n",
       "      <td>0.0 - 0.66</td>\n",
       "    </tr>\n",
       "    <tr>\n",
       "      <th>1</th>\n",
       "      <td>0.00</td>\n",
       "      <td>0.66</td>\n",
       "      <td>60_discount</td>\n",
       "      <td>0.000000</td>\n",
       "      <td>0.016027</td>\n",
       "      <td>0.0 - 0.66</td>\n",
       "    </tr>\n",
       "    <tr>\n",
       "      <th>2</th>\n",
       "      <td>0.00</td>\n",
       "      <td>0.66</td>\n",
       "      <td>no_discount</td>\n",
       "      <td>0.000000</td>\n",
       "      <td>0.017172</td>\n",
       "      <td>0.0 - 0.66</td>\n",
       "    </tr>\n",
       "    <tr>\n",
       "      <th>3</th>\n",
       "      <td>0.66</td>\n",
       "      <td>0.79</td>\n",
       "      <td>no_discount</td>\n",
       "      <td>40.100983</td>\n",
       "      <td>0.029221</td>\n",
       "      <td>0.66 - 0.79</td>\n",
       "    </tr>\n",
       "    <tr>\n",
       "      <th>4</th>\n",
       "      <td>0.66</td>\n",
       "      <td>0.79</td>\n",
       "      <td>30_discount</td>\n",
       "      <td>40.156272</td>\n",
       "      <td>0.035558</td>\n",
       "      <td>0.66 - 0.79</td>\n",
       "    </tr>\n",
       "    <tr>\n",
       "      <th>5</th>\n",
       "      <td>0.66</td>\n",
       "      <td>0.79</td>\n",
       "      <td>60_discount</td>\n",
       "      <td>40.224083</td>\n",
       "      <td>0.039767</td>\n",
       "      <td>0.66 - 0.79</td>\n",
       "    </tr>\n",
       "    <tr>\n",
       "      <th>6</th>\n",
       "      <td>0.79</td>\n",
       "      <td>0.82</td>\n",
       "      <td>30_discount</td>\n",
       "      <td>82.233758</td>\n",
       "      <td>0.040308</td>\n",
       "      <td>0.79 - 0.82</td>\n",
       "    </tr>\n",
       "    <tr>\n",
       "      <th>7</th>\n",
       "      <td>0.79</td>\n",
       "      <td>0.82</td>\n",
       "      <td>no_discount</td>\n",
       "      <td>82.211298</td>\n",
       "      <td>0.040425</td>\n",
       "      <td>0.79 - 0.82</td>\n",
       "    </tr>\n",
       "    <tr>\n",
       "      <th>8</th>\n",
       "      <td>0.79</td>\n",
       "      <td>0.82</td>\n",
       "      <td>60_discount</td>\n",
       "      <td>82.252400</td>\n",
       "      <td>0.050579</td>\n",
       "      <td>0.79 - 0.82</td>\n",
       "    </tr>\n",
       "    <tr>\n",
       "      <th>9</th>\n",
       "      <td>0.82</td>\n",
       "      <td>0.85</td>\n",
       "      <td>no_discount</td>\n",
       "      <td>111.326173</td>\n",
       "      <td>0.040949</td>\n",
       "      <td>0.82 - 0.85</td>\n",
       "    </tr>\n",
       "    <tr>\n",
       "      <th>10</th>\n",
       "      <td>0.82</td>\n",
       "      <td>0.85</td>\n",
       "      <td>30_discount</td>\n",
       "      <td>111.259749</td>\n",
       "      <td>0.049933</td>\n",
       "      <td>0.82 - 0.85</td>\n",
       "    </tr>\n",
       "    <tr>\n",
       "      <th>11</th>\n",
       "      <td>0.82</td>\n",
       "      <td>0.85</td>\n",
       "      <td>60_discount</td>\n",
       "      <td>111.276227</td>\n",
       "      <td>0.056898</td>\n",
       "      <td>0.82 - 0.85</td>\n",
       "    </tr>\n",
       "    <tr>\n",
       "      <th>12</th>\n",
       "      <td>0.85</td>\n",
       "      <td>0.88</td>\n",
       "      <td>no_discount</td>\n",
       "      <td>153.012332</td>\n",
       "      <td>0.043376</td>\n",
       "      <td>0.85 - 0.88</td>\n",
       "    </tr>\n",
       "    <tr>\n",
       "      <th>13</th>\n",
       "      <td>0.85</td>\n",
       "      <td>0.88</td>\n",
       "      <td>30_discount</td>\n",
       "      <td>152.822024</td>\n",
       "      <td>0.055592</td>\n",
       "      <td>0.85 - 0.88</td>\n",
       "    </tr>\n",
       "    <tr>\n",
       "      <th>14</th>\n",
       "      <td>0.85</td>\n",
       "      <td>0.88</td>\n",
       "      <td>60_discount</td>\n",
       "      <td>152.683461</td>\n",
       "      <td>0.064263</td>\n",
       "      <td>0.85 - 0.88</td>\n",
       "    </tr>\n",
       "    <tr>\n",
       "      <th>15</th>\n",
       "      <td>0.88</td>\n",
       "      <td>0.91</td>\n",
       "      <td>no_discount</td>\n",
       "      <td>218.612700</td>\n",
       "      <td>0.051813</td>\n",
       "      <td>0.88 - 0.91</td>\n",
       "    </tr>\n",
       "    <tr>\n",
       "      <th>16</th>\n",
       "      <td>0.88</td>\n",
       "      <td>0.91</td>\n",
       "      <td>30_discount</td>\n",
       "      <td>218.364089</td>\n",
       "      <td>0.061464</td>\n",
       "      <td>0.88 - 0.91</td>\n",
       "    </tr>\n",
       "    <tr>\n",
       "      <th>17</th>\n",
       "      <td>0.88</td>\n",
       "      <td>0.91</td>\n",
       "      <td>60_discount</td>\n",
       "      <td>217.724478</td>\n",
       "      <td>0.072411</td>\n",
       "      <td>0.88 - 0.91</td>\n",
       "    </tr>\n",
       "    <tr>\n",
       "      <th>18</th>\n",
       "      <td>0.91</td>\n",
       "      <td>0.94</td>\n",
       "      <td>no_discount</td>\n",
       "      <td>334.158734</td>\n",
       "      <td>0.059627</td>\n",
       "      <td>0.91 - 0.94</td>\n",
       "    </tr>\n",
       "    <tr>\n",
       "      <th>19</th>\n",
       "      <td>0.91</td>\n",
       "      <td>0.94</td>\n",
       "      <td>30_discount</td>\n",
       "      <td>334.508703</td>\n",
       "      <td>0.071570</td>\n",
       "      <td>0.91 - 0.94</td>\n",
       "    </tr>\n",
       "    <tr>\n",
       "      <th>20</th>\n",
       "      <td>0.91</td>\n",
       "      <td>0.94</td>\n",
       "      <td>60_discount</td>\n",
       "      <td>334.906514</td>\n",
       "      <td>0.088159</td>\n",
       "      <td>0.91 - 0.94</td>\n",
       "    </tr>\n",
       "    <tr>\n",
       "      <th>21</th>\n",
       "      <td>0.94</td>\n",
       "      <td>0.97</td>\n",
       "      <td>no_discount</td>\n",
       "      <td>601.008085</td>\n",
       "      <td>0.067779</td>\n",
       "      <td>0.94 - 0.97</td>\n",
       "    </tr>\n",
       "    <tr>\n",
       "      <th>22</th>\n",
       "      <td>0.94</td>\n",
       "      <td>0.97</td>\n",
       "      <td>30_discount</td>\n",
       "      <td>600.698247</td>\n",
       "      <td>0.094497</td>\n",
       "      <td>0.94 - 0.97</td>\n",
       "    </tr>\n",
       "    <tr>\n",
       "      <th>23</th>\n",
       "      <td>0.94</td>\n",
       "      <td>0.97</td>\n",
       "      <td>60_discount</td>\n",
       "      <td>599.108486</td>\n",
       "      <td>0.104689</td>\n",
       "      <td>0.94 - 0.97</td>\n",
       "    </tr>\n",
       "    <tr>\n",
       "      <th>24</th>\n",
       "      <td>0.97</td>\n",
       "      <td>1.00</td>\n",
       "      <td>no_discount</td>\n",
       "      <td>3906.388736</td>\n",
       "      <td>0.087586</td>\n",
       "      <td>0.97 - 1.0</td>\n",
       "    </tr>\n",
       "    <tr>\n",
       "      <th>25</th>\n",
       "      <td>0.97</td>\n",
       "      <td>1.00</td>\n",
       "      <td>30_discount</td>\n",
       "      <td>3740.951463</td>\n",
       "      <td>0.116748</td>\n",
       "      <td>0.97 - 1.0</td>\n",
       "    </tr>\n",
       "    <tr>\n",
       "      <th>26</th>\n",
       "      <td>0.97</td>\n",
       "      <td>1.00</td>\n",
       "      <td>60_discount</td>\n",
       "      <td>4002.018329</td>\n",
       "      <td>0.133890</td>\n",
       "      <td>0.97 - 1.0</td>\n",
       "    </tr>\n",
       "  </tbody>\n",
       "</table>\n",
       "</div>"
      ],
      "text/plain": [
       "    quantile_left  quantile_right experiment_group  mean_amount_net  \\\n",
       "0            0.00            0.66      30_discount         0.000000   \n",
       "1            0.00            0.66      60_discount         0.000000   \n",
       "2            0.00            0.66      no_discount         0.000000   \n",
       "3            0.66            0.79      no_discount        40.100983   \n",
       "4            0.66            0.79      30_discount        40.156272   \n",
       "5            0.66            0.79      60_discount        40.224083   \n",
       "6            0.79            0.82      30_discount        82.233758   \n",
       "7            0.79            0.82      no_discount        82.211298   \n",
       "8            0.79            0.82      60_discount        82.252400   \n",
       "9            0.82            0.85      no_discount       111.326173   \n",
       "10           0.82            0.85      30_discount       111.259749   \n",
       "11           0.82            0.85      60_discount       111.276227   \n",
       "12           0.85            0.88      no_discount       153.012332   \n",
       "13           0.85            0.88      30_discount       152.822024   \n",
       "14           0.85            0.88      60_discount       152.683461   \n",
       "15           0.88            0.91      no_discount       218.612700   \n",
       "16           0.88            0.91      30_discount       218.364089   \n",
       "17           0.88            0.91      60_discount       217.724478   \n",
       "18           0.91            0.94      no_discount       334.158734   \n",
       "19           0.91            0.94      30_discount       334.508703   \n",
       "20           0.91            0.94      60_discount       334.906514   \n",
       "21           0.94            0.97      no_discount       601.008085   \n",
       "22           0.94            0.97      30_discount       600.698247   \n",
       "23           0.94            0.97      60_discount       599.108486   \n",
       "24           0.97            1.00      no_discount      3906.388736   \n",
       "25           0.97            1.00      30_discount      3740.951463   \n",
       "26           0.97            1.00      60_discount      4002.018329   \n",
       "\n",
       "    mean_verificated    quantiles  \n",
       "0           0.015559   0.0 - 0.66  \n",
       "1           0.016027   0.0 - 0.66  \n",
       "2           0.017172   0.0 - 0.66  \n",
       "3           0.029221  0.66 - 0.79  \n",
       "4           0.035558  0.66 - 0.79  \n",
       "5           0.039767  0.66 - 0.79  \n",
       "6           0.040308  0.79 - 0.82  \n",
       "7           0.040425  0.79 - 0.82  \n",
       "8           0.050579  0.79 - 0.82  \n",
       "9           0.040949  0.82 - 0.85  \n",
       "10          0.049933  0.82 - 0.85  \n",
       "11          0.056898  0.82 - 0.85  \n",
       "12          0.043376  0.85 - 0.88  \n",
       "13          0.055592  0.85 - 0.88  \n",
       "14          0.064263  0.85 - 0.88  \n",
       "15          0.051813  0.88 - 0.91  \n",
       "16          0.061464  0.88 - 0.91  \n",
       "17          0.072411  0.88 - 0.91  \n",
       "18          0.059627  0.91 - 0.94  \n",
       "19          0.071570  0.91 - 0.94  \n",
       "20          0.088159  0.91 - 0.94  \n",
       "21          0.067779  0.94 - 0.97  \n",
       "22          0.094497  0.94 - 0.97  \n",
       "23          0.104689  0.94 - 0.97  \n",
       "24          0.087586   0.97 - 1.0  \n",
       "25          0.116748   0.97 - 1.0  \n",
       "26          0.133890   0.97 - 1.0  "
      ]
     },
     "execution_count": 899,
     "metadata": {},
     "output_type": "execute_result"
    }
   ],
   "source": [
    "df_for_plot.quantile_left = df_for_plot.quantile_left.astype('float64')\n",
    "df_for_plot['quantiles'] = df_for_plot.quantile_left.astype('str') + ' - ' + df_for_plot.quantile_right.astype('str')\n",
    "df_for_plot"
   ]
  },
  {
   "cell_type": "code",
   "execution_count": 900,
   "metadata": {},
   "outputs": [],
   "source": [
    "df_for_plot = pd.merge(df_for_plot, df_for_plot.groupby('quantiles').mean().reset_index()[['mean_amount_net', 'quantiles']], how='left', on='quantiles')\n",
    "df_for_plot = df_for_plot[['quantiles', 'experiment_group', 'mean_amount_net_y', 'mean_verificated']].rename(columns={'mean_amount_net_y': 'mean_amount_net'})"
   ]
  },
  {
   "attachments": {},
   "cell_type": "markdown",
   "metadata": {},
   "source": [
    "*Verification rate* по квантильным группам дохода и экспериментальной группе"
   ]
  },
  {
   "cell_type": "code",
   "execution_count": 901,
   "metadata": {},
   "outputs": [
    {
     "data": {
      "image/png": "[encoded data removed]",
      "text/plain": [
       "<Figure size 1500x600 with 2 Axes>"
      ]
     },
     "metadata": {},
     "output_type": "display_data"
    }
   ],
   "source": [
    "fig = plt.figure(figsize=(15, 6))\n",
    "ax1 = fig.add_axes((0.1, 0.25, 0.8, 0.6))\n",
    "hue_order = ['no_discount', '30_discount', '60_discount']\n",
    "sns.barplot(data = df_for_plot, x = df_for_plot.mean_amount_net.round(2) , y=df_for_plot.mean_verificated, hue = 'experiment_group', hue_order=hue_order, palette=\"flare\", ax=ax1)\n",
    "ax1.set_xlabel(r\"ARPU on pred\")\n",
    "\n",
    "ax1.set_ylabel('Verification rate')\n",
    "ax2 = fig.add_axes((0.1, 0.16, 0.8, 0))\n",
    "ax2.yaxis.set_visible(False)\n",
    "\n",
    "new_tick_locations = np.linspace(0.055, 0.945, 9)\n",
    "\n",
    "ax2.set_xticks(new_tick_locations)\n",
    "ax2.set_xticklabels(df_for_plot.quantiles.unique())\n",
    "ax2.set_xlabel(r\"Quantile range\")\n",
    "plt.show()"
   ]
  },
  {
   "attachments": {},
   "cell_type": "markdown",
   "metadata": {},
   "source": [
    "#### Чем выше траты на предпериоде, тем выше конверсия в верификацию, что логично$\\newline$ больше тратят <-> более активные юзеры -> больше хоятят скидку и значок"
   ]
  },
  {
   "cell_type": "code",
   "execution_count": 902,
   "metadata": {},
   "outputs": [],
   "source": [
    "user_type_seg = verification_in_groups.groupby(['UserType', 'experiment_group']).mean().reset_index()"
   ]
  },
  {
   "attachments": {},
   "cell_type": "markdown",
   "metadata": {},
   "source": [
    "*Verification rate* по типу юзера и экспериментальной группе"
   ]
  },
  {
   "cell_type": "code",
   "execution_count": 903,
   "metadata": {},
   "outputs": [
    {
     "data": {
      "image/png": "[encoded data removed]",
      "text/plain": [
       "<Figure size 1500x600 with 1 Axes>"
      ]
     },
     "metadata": {},
     "output_type": "display_data"
    }
   ],
   "source": [
    "fig = plt.figure(figsize=(15, 6))\n",
    "sns.barplot(data=user_type_seg, x='UserType', y='is_verificated', hue='experiment_group', hue_order = hue_order, palette=\"flare\")\n",
    "plt.xlabel('User type')\n",
    "plt.ylabel('Verification rate')\n",
    "plt.show()"
   ]
  },
  {
   "attachments": {},
   "cell_type": "markdown",
   "metadata": {},
   "source": [
    "## Выводы\n",
    "\n",
    "- **Конверсия** в верификацию самая большая в группе с 60% скидкой, раскатывая этот вариант мы получаем прирост конверсии на **22% ± 5%** в сравнении с группой без скидки\n",
    "- **ARPU** на верефицированного пользователя наибольшее также в группе с 60% скидкой, раскатив этот вариант мы получим прирост выручки на **49% ± 20%** в сравнении с группой без скидки\n",
    "- Чем больше пользоваетль тратит на услуги продвижения, тем активнее он верифицируется. $\\newline$\n",
    "  В частности самый большой показатель конверсии у типа пользователей Shop так как они больше всех тратят, самый низкий у частников\n",
    "- **Предложение с 60% скидкой имеет самую большую конверсию, при этом еще и зарабатывает больше всех денег. $\\newline$ Можно спокойно выкатывать на 100% пользователей этой вертикали**\n"
   ]
  },
  {
   "attachments": {},
   "cell_type": "markdown",
   "metadata": {},
   "source": []
  }
 ],
 "metadata": {
  "kernelspec": {
   "display_name": "Python 3",
   "language": "python",
   "name": "python3"
  },
  "language_info": {
   "codemirror_mode": {
    "name": "ipython",
    "version": 3
   },
   "file_extension": ".py",
   "mimetype": "text/x-python",
   "name": "python",
   "nbconvert_exporter": "python",
   "pygments_lexer": "ipython3",
   "version": "3.10.7"
  },
  "orig_nbformat": 4
 },
 "nbformat": 4,
 "nbformat_minor": 2
}
